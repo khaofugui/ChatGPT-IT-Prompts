{
 "cells": [
  {
   "cell_type": "markdown",
   "id": "fecb22ac",
   "metadata": {},
   "source": [
    "## 实验：自动化数据洞察\n",
    "\n",
    "**注意**：ChatGPT 最大的优势在于支持会话上下文的关联与交互性。因此，你没必要要求 ChatGPT 一次性的给你提供所有完整的回答。而应该通过多次提问与交互，使 ChatGPT 更进一步的明确你的指令，并提供你所需要的信息。"
   ]
  },
  {
   "cell_type": "markdown",
   "id": "c954b104",
   "metadata": {},
   "source": [
    "### 本地环境配置"
   ]
  },
  {
   "cell_type": "code",
   "execution_count": 1,
   "id": "ed8c7067",
   "metadata": {},
   "outputs": [],
   "source": [
    "from matplotlib import pyplot as plt\n",
    "%matplotlib inline\n",
    "plt.rcParams['font.family'] = 'sans-serif'    # 用来正常显示中文\n",
    "plt.rcParams['font.sans-serif'] = 'SimHei'\n",
    "plt.rcParams['axes.unicode_minus'] = False   # 设置正常显示符号\n",
    "\n",
    "# 设置输入输出路径\n",
    "import os\n",
    "base_path = os.environ.get(\"BASE_PATH\",'../data/')\n",
    "data_path = os.path.join(base_path + \"lab4/\")\n",
    "result_path = \"result/\"\n",
    "os.makedirs(result_path, exist_ok=True)\n",
    "\n",
    "# 忽略第三方支援库更新兼容性提示\n",
    "import warnings\n",
    "warnings.simplefilter('ignore') "
   ]
  },
  {
   "cell_type": "markdown",
   "id": "32dd349d",
   "metadata": {},
   "source": [
    "### 指令格式\n",
    "\n",
    "- 请作为一位数据分析师，对下面这一份 **<font color=\"#0000dd\">[数据集类型]</font>** 进行分析，请输出你的数据洞察结论 ——\n",
    "\n",
    "**<font color=\"#0000dd\">[原始数据集]</font>**\n",
    "\n",
    "- 请提供详细的 Python 分析代码与说明\n",
    "- 请提供相关数据洞察结论的可视化分析代码\n",
    "\n",
    "### 指令示例\n",
    "\n",
    "- 请作为一位数据分析师，对下面这一份 **[供应链数据集]** 进行分析，请输出你的数据洞察结论 ——\n",
    "```\n",
    "原始数据集\n",
    "```\n",
    "- 请提供详细的 Python 分析代码与说明\n",
    "- 请提供相关数据洞察结论的可视化分析代码\n",
    "\n",
    "<img src=\"./img/4-4.png\" width=80%>"
   ]
  },
  {
   "cell_type": "markdown",
   "id": "d9b8c90f",
   "metadata": {},
   "source": [
    "### ChatGPT 代码测试\n",
    "\n",
    "供应链数据集分析结论：\n",
    "\n",
    "1. 供应链数据集包含了一些物流运输的信息，包括日期、货物种类、货物数量、客户类型、目的地、费用等等。\n",
    "2. 从月份的角度看，1月和2月的运输货物是木材和沙子，3月变成了铁矿石。\n",
    "3. 客户类型分为新客户和留存客户，留存客户更多，其中有些客户多次进行运输。\n",
    "4. 目的地分别是Nunavut、British Columbia、Manitoba、New Brunswick等地。\n",
    "5. 运输的费用包括多种项，如费率、卡车、保险、燃料、高速公路费、维修等。\n",
    "6. 司机的名字和里程数也被记录下来。\n",
    "7. 数据集中的一些指标可以用来计算成本和收益，如里程数、每英里费用、额外停靠次数和费用等。\n",
    "8. 通过对数据进行分析，可以找出哪些客户是最有价值的，哪些区域最有潜力，哪些司机效率最高等等，为优化物流运输和提高盈利能力提供参考。"
   ]
  },
  {
   "cell_type": "markdown",
   "id": "f6fbe37b",
   "metadata": {},
   "source": [
    "由于数据量较小，我们可以使用 Pandas 进行数据读取和分析。\n",
    "\n",
    "首先，我们需要导入 Pandas 库，并读取数据集："
   ]
  },
  {
   "cell_type": "code",
   "execution_count": 2,
   "id": "5bba42a6",
   "metadata": {},
   "outputs": [],
   "source": [
    "import pandas as pd\n",
    "\n",
    "df = pd.read_csv(data_path + 'supply_chain.csv')"
   ]
  },
  {
   "cell_type": "markdown",
   "id": "7e528fbe",
   "metadata": {},
   "source": [
    "接着，我们可以查看数据集的基本信息："
   ]
  },
  {
   "cell_type": "code",
   "execution_count": 3,
   "id": "3e65ff08",
   "metadata": {},
   "outputs": [
    {
     "name": "stdout",
     "output_type": "stream",
     "text": [
      "  Month  Day  Load  Tonnage       Customer Type       Destination    Rate  \\\n",
      "0   Jan    1  Wood     11.0  Retaining Customer          Nunavut.  5556.0   \n",
      "1   Jan    3  Wood     21.3  Retaining Customer  British Columbia  5556.0   \n",
      "2   Jan   13  Wood     22.0  Retaining Customer          Manitoba  5556.0   \n",
      "3   Feb    4  Sand     14.5  Retaining Customer  British Columbia  4567.0   \n",
      "4   Feb    5  Sand     18.0  Retaining Customer          Manitoba  4567.0   \n",
      "\n",
      "                   Truck  Insurance   Fuel  ...  Rate Per Miles  Extra Stops  \\\n",
      "0  Freightliner Sprinter      132.0  400.0  ...           240.0        100.0   \n",
      "1  Freightliner Sprinter      132.0  400.0  ...           240.0        100.0   \n",
      "2  Freightliner Sprinter      132.0  400.0  ...           240.0        100.0   \n",
      "3  Freightliner Sprinter      132.0  333.0  ...           248.0        100.0   \n",
      "4  Freightliner Sprinter      132.0  333.0  ...           248.0        100.0   \n",
      "\n",
      "   Extra Pay  Costs Driver Paid  Total Expenses  First condition type  \\\n",
      "0       22.0               54.0          1573.0                 722.0   \n",
      "1       22.0               54.0          1573.0                 722.0   \n",
      "2       22.0               54.0          1573.0                 722.0   \n",
      "3       23.0               55.0          1531.0                 594.0   \n",
      "4       23.0               55.0          1532.0                 594.0   \n",
      "\n",
      "  Shipment cost sub-items  ERE Stage  Basic freight  Final Amount  \n",
      "0                  1111.0      945.0         1389.0        1667.0  \n",
      "1                  1111.0      945.0         1389.0        1667.0  \n",
      "2                  1111.0      945.0         1389.0        1667.0  \n",
      "3                   913.0      776.0         1142.0        1370.0  \n",
      "4                   913.0      776.0         1142.0        1370.0  \n",
      "\n",
      "[5 rows x 29 columns]\n"
     ]
    }
   ],
   "source": [
    "print(df.head())        # 查看前 5 行数据"
   ]
  },
  {
   "cell_type": "code",
   "execution_count": 4,
   "id": "2f14fcd8",
   "metadata": {},
   "outputs": [
    {
     "name": "stdout",
     "output_type": "stream",
     "text": [
      "<class 'pandas.core.frame.DataFrame'>\n",
      "RangeIndex: 61 entries, 0 to 60\n",
      "Data columns (total 29 columns):\n",
      " #   Column                   Non-Null Count  Dtype  \n",
      "---  ------                   --------------  -----  \n",
      " 0   Month                    61 non-null     object \n",
      " 1   Day                      61 non-null     int64  \n",
      " 2   Load                     61 non-null     object \n",
      " 3   Tonnage                  61 non-null     float64\n",
      " 4   Customer Type            61 non-null     object \n",
      " 5   Destination              61 non-null     object \n",
      " 6   Rate                     61 non-null     float64\n",
      " 7   Truck                    61 non-null     object \n",
      " 8   Insurance                61 non-null     float64\n",
      " 9   Fuel                     61 non-null     float64\n",
      " 10  Diesel Exhaust Fluid     61 non-null     float64\n",
      " 11  Advance                  61 non-null     float64\n",
      " 12  Warehouse                61 non-null     float64\n",
      " 13  Repairs                  39 non-null     float64\n",
      " 14  Tolls                    61 non-null     float64\n",
      " 15  Fundings                 61 non-null     float64\n",
      " 16  Driver Name              61 non-null     object \n",
      " 17  Odometer                 61 non-null     float64\n",
      " 18  Miles                    61 non-null     float64\n",
      " 19  Rate Per Miles           61 non-null     float64\n",
      " 20  Extra Stops              61 non-null     float64\n",
      " 21  Extra Pay                61 non-null     float64\n",
      " 22  Costs Driver Paid        61 non-null     float64\n",
      " 23  Total Expenses           61 non-null     float64\n",
      " 24  First condition type     61 non-null     float64\n",
      " 25  Shipment cost sub-items  61 non-null     float64\n",
      " 26  ERE Stage                61 non-null     float64\n",
      " 27  Basic freight            61 non-null     float64\n",
      " 28  Final Amount             61 non-null     float64\n",
      "dtypes: float64(22), int64(1), object(6)\n",
      "memory usage: 13.9+ KB\n",
      "None\n"
     ]
    }
   ],
   "source": [
    "print(df.info())        # 查看数据集信息，包括列名、数据类型、非空数量等"
   ]
  },
  {
   "cell_type": "code",
   "execution_count": 5,
   "id": "db7d6fd7",
   "metadata": {},
   "outputs": [
    {
     "name": "stdout",
     "output_type": "stream",
     "text": [
      "             Day    Tonnage         Rate  Insurance        Fuel  \\\n",
      "count  61.000000  61.000000    61.000000       61.0   61.000000   \n",
      "mean   15.524590  17.177049  5885.868852      132.0  388.852459   \n",
      "std     8.779914   3.734943  1554.139735        0.0   44.944720   \n",
      "min     1.000000  11.000000  3456.000000      132.0  245.000000   \n",
      "25%     8.000000  13.000000  4782.000000      132.0  399.000000   \n",
      "50%    17.000000  18.000000  5556.000000      132.0  400.000000   \n",
      "75%    23.000000  21.000000  6778.000000      132.0  400.000000   \n",
      "max    29.000000  23.000000  8765.000000      132.0  453.000000   \n",
      "\n",
      "       Diesel Exhaust Fluid  Advance   Warehouse    Repairs       Tolls  ...  \\\n",
      "count             61.000000     61.0   61.000000  39.000000   61.000000  ...   \n",
      "mean              51.868852    250.0  127.622951  56.794872  120.852459  ...   \n",
      "std                5.261417      0.0    6.408754  14.162923   28.390043  ...   \n",
      "min               50.000000    250.0  120.000000  32.000000   51.000000  ...   \n",
      "25%               50.000000    250.0  120.000000  49.500000  128.000000  ...   \n",
      "50%               50.000000    250.0  128.000000  65.000000  134.000000  ...   \n",
      "75%               50.000000    250.0  134.000000  65.000000  134.000000  ...   \n",
      "max               74.000000    250.0  134.000000  65.000000  134.000000  ...   \n",
      "\n",
      "       Rate Per Miles  Extra Stops  Extra Pay  Costs Driver Paid  \\\n",
      "count       61.000000         61.0  61.000000          61.000000   \n",
      "mean       244.983607        100.0  25.344262          57.344262   \n",
      "std         26.045788          0.0   2.205185           2.205185   \n",
      "min        164.000000        100.0  22.000000          54.000000   \n",
      "25%        240.000000        100.0  24.000000          56.000000   \n",
      "50%        240.000000        100.0  25.000000          57.000000   \n",
      "75%        264.000000        100.0  28.000000          60.000000   \n",
      "max        279.000000        100.0  29.000000          61.000000   \n",
      "\n",
      "       Total Expenses  First condition type  Shipment cost sub-items  \\\n",
      "count       61.000000             61.000000                61.000000   \n",
      "mean      1554.786885            765.098361              1177.229508   \n",
      "std         60.984456            201.884348               310.979710   \n",
      "min       1409.000000            449.000000               691.000000   \n",
      "25%       1530.000000            622.000000               956.000000   \n",
      "50%       1570.000000            722.000000              1111.000000   \n",
      "75%       1616.000000            881.000000              1356.000000   \n",
      "max       1623.000000           1139.000000              1753.000000   \n",
      "\n",
      "         ERE Stage  Basic freight  Final Amount  \n",
      "count    61.000000      61.000000     61.000000  \n",
      "mean   1000.639344    1471.639344   1765.786885  \n",
      "std     264.159487     388.418161    466.277783  \n",
      "min     588.000000     864.000000   1037.000000  \n",
      "25%     813.000000    1196.000000   1435.000000  \n",
      "50%     945.000000    1389.000000   1667.000000  \n",
      "75%    1152.000000    1695.000000   2033.000000  \n",
      "max    1490.000000    2191.000000   2630.000000  \n",
      "\n",
      "[8 rows x 23 columns]\n"
     ]
    }
   ],
   "source": [
    "print(df.describe())    # 查看数据集的基本统计信息，包括均值、标准差、最小值、最大值等"
   ]
  },
  {
   "cell_type": "markdown",
   "id": "ec25ac78",
   "metadata": {},
   "source": [
    "接下来，我们可以根据业务需求进行数据分析。下面给出一些可能的数据洞察结论及其实现代码："
   ]
  },
  {
   "cell_type": "markdown",
   "id": "f1b99633",
   "metadata": {},
   "source": [
    "#### 1. 每月货运量和总收入"
   ]
  },
  {
   "cell_type": "code",
   "execution_count": 6,
   "id": "fa5b7052",
   "metadata": {},
   "outputs": [
    {
     "name": "stdout",
     "output_type": "stream",
     "text": [
      "                                                   Load  Final Amount\n",
      "Month                                                                \n",
      "Apr                                        WoodSandWood        5790.0\n",
      "Aug                                    SandSandSandSand        7852.0\n",
      "Dec                                        WoodWoodWood        4758.0\n",
      "Feb                                    SandSandSandSand        5480.0\n",
      "Jan                                        WoodWoodWood        5001.0\n",
      "Jul    WoodWoodWoodWoodWoodWoodWoodWoodWoodWoodWoodWood       24396.0\n",
      "Jun                                    IronIronIronIron        6520.0\n",
      "Mar                                IronIronSandIronWood        5185.0\n",
      "May                                    SandSandSandIron       10520.0\n",
      "Nov                                IronIronIronIronIron        7175.0\n",
      "Oct            WoodWoodWoodSandWoodSandSandSandWoodWood       14676.0\n",
      "Sep                                    WoodWoodWoodWood       10360.0\n"
     ]
    }
   ],
   "source": [
    "# 按月份分组，计算每月的货运量和总收入\n",
    "monthly_data = df.groupby('Month').agg({'Load': 'sum', 'Final Amount': 'sum'})\n",
    "\n",
    "# 显示结果\n",
    "print(monthly_data)"
   ]
  },
  {
   "cell_type": "markdown",
   "id": "d18e5a7f",
   "metadata": {},
   "source": [
    "#### 2. 每月的平均运输里程和平均运输成本"
   ]
  },
  {
   "cell_type": "code",
   "execution_count": 7,
   "id": "74962f11",
   "metadata": {},
   "outputs": [
    {
     "name": "stdout",
     "output_type": "stream",
     "text": [
      "       Miles  Total Expenses\n",
      "Month                       \n",
      "Apr    343.0     1593.333333\n",
      "Aug    389.0     1533.500000\n",
      "Dec    343.0     1530.000000\n",
      "Feb    354.0     1532.500000\n",
      "Jan    343.0     1573.000000\n",
      "Jul    377.0     1612.166667\n",
      "Jun    343.0     1409.000000\n",
      "Mar    333.0     1563.600000\n",
      "May    343.0     1579.000000\n",
      "Nov    399.0     1618.000000\n",
      "Oct    343.0     1549.100000\n",
      "Sep    234.0     1448.000000\n"
     ]
    }
   ],
   "source": [
    "# 按月份分组，计算每月的平均运输里程和平均运输成本\n",
    "df['Miles'] = df['Miles'].astype(float)\n",
    "df['Total Expenses'] = df['Total Expenses'].astype(float)\n",
    "monthly_data = df.groupby('Month').agg({'Miles': 'mean', 'Total Expenses': 'mean'})\n",
    "\n",
    "# 显示结果\n",
    "print(monthly_data)"
   ]
  },
  {
   "cell_type": "markdown",
   "id": "2755fdca",
   "metadata": {},
   "source": [
    "#### 3. 不同客户类型的平均运输成本和收入"
   ]
  },
  {
   "cell_type": "code",
   "execution_count": 8,
   "id": "10b21ce1",
   "metadata": {},
   "outputs": [
    {
     "name": "stdout",
     "output_type": "stream",
     "text": [
      "                    Total Expenses  Final Amount\n",
      "Customer Type                                   \n",
      "New Customer           1569.090909   1760.272727\n",
      "Retaining Customer     1551.640000   1767.000000\n"
     ]
    }
   ],
   "source": [
    "# 按客户类型分组，计算不同客户类型的平均运输成本和收入\n",
    "customer_data = df.groupby('Customer Type').agg({'Total Expenses': 'mean', 'Final Amount': 'mean'})\n",
    "\n",
    "# 显示结果\n",
    "print(customer_data)"
   ]
  },
  {
   "cell_type": "markdown",
   "id": "1e4d0530",
   "metadata": {},
   "source": [
    "#### 4. 不同目的地的平均运输成本和收入"
   ]
  },
  {
   "cell_type": "code",
   "execution_count": 9,
   "id": "c9625a5a",
   "metadata": {},
   "outputs": [
    {
     "name": "stdout",
     "output_type": "stream",
     "text": [
      "                  Total Expenses  Final Amount\n",
      "Destination                                   \n",
      "Alberta              1575.750000   1766.500000\n",
      "British Columbia     1556.500000   1683.833333\n",
      "Manitoba             1551.200000   1729.000000\n",
      "New Brunswick        1540.857143   1903.285714\n",
      "Nova Scotia          1505.800000   1956.600000\n",
      "Nunavut              1564.851852   1724.111111\n",
      "Nunavut.             1573.000000   1667.000000\n",
      "Yukon                1549.000000   1930.000000\n"
     ]
    }
   ],
   "source": [
    "# 按目的地分组，计算不同目的地的平均运输成本和收入\n",
    "destination_data = df.groupby('Destination').agg({'Total Expenses': 'mean', 'Final Amount': 'mean'})\n",
    "\n",
    "# 显示结果\n",
    "print(destination_data)"
   ]
  },
  {
   "cell_type": "markdown",
   "id": "15692fb0",
   "metadata": {},
   "source": [
    "#### 5. 不同货物类型的平均运输成本和收入"
   ]
  },
  {
   "cell_type": "code",
   "execution_count": 10,
   "id": "27a31827",
   "metadata": {},
   "outputs": [
    {
     "name": "stdout",
     "output_type": "stream",
     "text": [
      "           Total Expenses  Final Amount\n",
      "ERE Stage                              \n",
      "588.0         1551.444444        1037.0\n",
      "776.0         1532.500000        1370.0\n",
      "813.0         1618.000000        1435.0\n",
      "899.0         1530.000000        1586.0\n",
      "923.0         1409.000000        1630.0\n",
      "945.0         1573.000000        1667.0\n",
      "1094.0        1566.800000        1930.0\n",
      "1112.0        1533.500000        1963.0\n",
      "1152.0        1612.166667        2033.0\n",
      "1468.0        1448.000000        2590.0\n",
      "1490.0        1579.000000        2630.0\n"
     ]
    }
   ],
   "source": [
    "# 按货物类型分组，计算不同货物类型的平均运输成本和收入\n",
    "cargo_data = df.groupby('ERE Stage').agg({'Total Expenses': 'mean', 'Final Amount': 'mean'})\n",
    "\n",
    "# 显示结果\n",
    "print(cargo_data)"
   ]
  },
  {
   "cell_type": "markdown",
   "id": "acc81ce8",
   "metadata": {},
   "source": [
    "以上代码仅是简单示例，实际应用中可能需要更多的数据清洗、特征工程和可视化分析。同时，根据具体业务需求，也可以通过修改上述代码来实现更多的数据洞察结论。"
   ]
  },
  {
   "cell_type": "markdown",
   "id": "935cc1a6",
   "metadata": {},
   "source": [
    "#### 各月份装载量和吨位的比较"
   ]
  },
  {
   "cell_type": "code",
   "execution_count": 11,
   "id": "496d0275",
   "metadata": {},
   "outputs": [
    {
     "data": {
      "image/png": "[encoded data removed]",
      "text/plain": [
       "<Figure size 576x432 with 1 Axes>"
      ]
     },
     "metadata": {
      "needs_background": "light"
     },
     "output_type": "display_data"
    }
   ],
   "source": [
    "import pandas as pd\n",
    "import matplotlib.pyplot as plt\n",
    "\n",
    "df = pd.read_csv(data_path + 'supply_chain.csv')\n",
    "\n",
    "# 计算每个月的总装载量和总吨位\n",
    "monthly_totals = df.groupby('Month').agg({'Load': 'sum', 'Tonnage': 'sum'})\n",
    "\n",
    "# 可视化月度总装载量和总吨位\n",
    "ax = monthly_totals.plot(kind='bar', figsize=(8,6))\n",
    "ax.set_xlabel('Month')\n",
    "ax.set_ylabel('Total Load/Tonnage')\n",
    "plt.show()"
   ]
  },
  {
   "cell_type": "markdown",
   "id": "4f6a783b",
   "metadata": {},
   "source": [
    "#### 各省份的平均费率"
   ]
  },
  {
   "cell_type": "code",
   "execution_count": 12,
   "id": "fc3e9e03",
   "metadata": {},
   "outputs": [
    {
     "data": {
      "image/png": "[encoded data removed]",
      "text/plain": [
       "<Figure size 576x432 with 1 Axes>"
      ]
     },
     "metadata": {
      "needs_background": "light"
     },
     "output_type": "display_data"
    }
   ],
   "source": [
    "import pandas as pd\n",
    "import matplotlib.pyplot as plt\n",
    "\n",
    "df = pd.read_csv(data_path + 'supply_chain.csv')\n",
    "\n",
    "# 计算每个省份的平均费率\n",
    "avg_rates = df.groupby('Destination')['Rate'].mean().sort_values()\n",
    "\n",
    "# 可视化平均费率\n",
    "ax = avg_rates.plot(kind='barh', figsize=(8,6))\n",
    "ax.set_xlabel('Average Rate')\n",
    "plt.show()"
   ]
  },
  {
   "cell_type": "markdown",
   "id": "ed63c02c",
   "metadata": {},
   "source": [
    "#### 不同客户类型的平均费用"
   ]
  },
  {
   "cell_type": "code",
   "execution_count": 13,
   "id": "376d7a8d",
   "metadata": {},
   "outputs": [
    {
     "data": {
      "image/png": "[encoded data removed]",
      "text/plain": [
       "<Figure size 576x432 with 1 Axes>"
      ]
     },
     "metadata": {
      "needs_background": "light"
     },
     "output_type": "display_data"
    }
   ],
   "source": [
    "import pandas as pd\n",
    "import matplotlib.pyplot as plt\n",
    "\n",
    "df = pd.read_csv(data_path + 'supply_chain.csv')\n",
    "\n",
    "# 计算每种客户类型的平均费用\n",
    "avg_costs = df.groupby('Customer Type').mean()[['Total Expenses', 'Shipment cost sub-items']]\n",
    "\n",
    "# 可视化平均费用\n",
    "ax = avg_costs.plot(kind='bar', figsize=(8,6))\n",
    "ax.set_xlabel('Customer Type')\n",
    "ax.set_ylabel('Average Cost')\n",
    "plt.show()"
   ]
  }
 ],
 "metadata": {
  "kernelspec": {
   "display_name": "Python 3",
   "language": "python",
   "name": "python3"
  },
  "language_info": {
   "codemirror_mode": {
    "name": "ipython",
    "version": 3
   },
   "file_extension": ".py",
   "mimetype": "text/x-python",
   "name": "python",
   "nbconvert_exporter": "python",
   "pygments_lexer": "ipython3",
   "version": "3.6.9"
  },
  "toc": {
   "base_numbering": 1,
   "nav_menu": {},
   "number_sections": false,
   "sideBar": true,
   "skip_h1_title": false,
   "title_cell": "Table of Contents",
   "title_sidebar": "Contents",
   "toc_cell": false,
   "toc_position": {
    "height": "calc(100% - 180px)",
    "left": "10px",
    "top": "150px",
    "width": "225px"
   },
   "toc_section_display": true,
   "toc_window_display": false
  }
 },
 "nbformat": 4,
 "nbformat_minor": 5
}
