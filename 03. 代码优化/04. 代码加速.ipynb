{
 "cells": [
  {
   "cell_type": "markdown",
   "id": "fecb22ac",
   "metadata": {},
   "source": [
    "## 实验：代码加速"
   ]
  },
  {
   "cell_type": "markdown",
   "id": "c954b104",
   "metadata": {},
   "source": [
    "### 本地环境配置"
   ]
  },
  {
   "cell_type": "code",
   "execution_count": 1,
   "id": "ed8c7067",
   "metadata": {},
   "outputs": [],
   "source": [
    "from matplotlib import pyplot as plt\n",
    "%matplotlib inline\n",
    "plt.rcParams['font.family'] = 'sans-serif'    # 用来正常显示中文\n",
    "plt.rcParams['font.sans-serif'] = 'SimHei'\n",
    "plt.rcParams['axes.unicode_minus'] = False   # 设置正常显示符号\n",
    "\n",
    "# 设置输入输出路径\n",
    "import os\n",
    "base_path = os.environ.get(\"BASE_PATH\",'../data/')\n",
    "data_path = os.path.join(base_path + \"lab3/\")\n",
    "result_path = \"result/\"\n",
    "os.makedirs(result_path, exist_ok=True)\n",
    "\n",
    "# 忽略第三方支援库更新兼容性提示\n",
    "import warnings\n",
    "warnings.simplefilter('ignore') "
   ]
  },
  {
   "cell_type": "markdown",
   "id": "32dd349d",
   "metadata": {},
   "source": [
    "### 指令格式\n",
    "\n",
    "请作为一个软件工程师，帮我优化以下代码的执行效率 ——\n",
    "\n",
    "**<font color=\"#0000dd\">Python 代码</font>**\n",
    "\n",
    "### 指令示例\n",
    "\n",
    "请作为一个软件工程师，帮我优化以下代码的执行效率 ——\n",
    "```python\n",
    "def test(y):\n",
    "    sum = 0\n",
    "    for i in range (y+1):\n",
    "        sum += 1\n",
    "    return sum\n",
    "```\n",
    "\n",
    "<img src=\"./img/3-4.png\" width=80%>\n",
    "\n",
    "### ChatGPT 代码测试"
   ]
  },
  {
   "cell_type": "code",
   "execution_count": 2,
   "id": "6a97d871",
   "metadata": {},
   "outputs": [
    {
     "name": "stdout",
     "output_type": "stream",
     "text": [
      "CPU times: user 11 µs, sys: 10 µs, total: 21 µs\n",
      "Wall time: 25.5 µs\n"
     ]
    },
    {
     "data": {
      "text/plain": [
       "11"
      ]
     },
     "execution_count": 2,
     "metadata": {},
     "output_type": "execute_result"
    }
   ],
   "source": [
    "%%time\n",
    "\n",
    "# 原始代码\n",
    "def test(y):\n",
    "    sum = 0\n",
    "    for i in range (y+1):\n",
    "        sum += 1\n",
    "    return sum\n",
    "\n",
    "test(10)"
   ]
  },
  {
   "cell_type": "code",
   "execution_count": 3,
   "id": "b77c81c3",
   "metadata": {},
   "outputs": [
    {
     "name": "stdout",
     "output_type": "stream",
     "text": [
      "CPU times: user 18 µs, sys: 0 ns, total: 18 µs\n",
      "Wall time: 23.4 µs\n"
     ]
    },
    {
     "data": {
      "text/plain": [
       "11"
      ]
     },
     "execution_count": 3,
     "metadata": {},
     "output_type": "execute_result"
    }
   ],
   "source": [
    "%%time\n",
    "\n",
    "# 优化后代码\n",
    "def test(y):\n",
    "    return (y + 1)\n",
    "\n",
    "test(10)"
   ]
  }
 ],
 "metadata": {
  "kernelspec": {
   "display_name": "Python 3",
   "language": "python",
   "name": "python3"
  },
  "language_info": {
   "codemirror_mode": {
    "name": "ipython",
    "version": 3
   },
   "file_extension": ".py",
   "mimetype": "text/x-python",
   "name": "python",
   "nbconvert_exporter": "python",
   "pygments_lexer": "ipython3",
   "version": "3.6.9"
  },
  "toc": {
   "base_numbering": 1,
   "nav_menu": {},
   "number_sections": false,
   "sideBar": true,
   "skip_h1_title": false,
   "title_cell": "Table of Contents",
   "title_sidebar": "Contents",
   "toc_cell": false,
   "toc_position": {
    "height": "calc(100% - 180px)",
    "left": "10px",
    "top": "150px",
    "width": "225px"
   },
   "toc_section_display": true,
   "toc_window_display": false
  }
 },
 "nbformat": 4,
 "nbformat_minor": 5
}
