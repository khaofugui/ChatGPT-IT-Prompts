{
 "cells": [
  {
   "cell_type": "markdown",
   "id": "fecb22ac",
   "metadata": {},
   "source": [
    "## 实验：代码简化"
   ]
  },
  {
   "cell_type": "markdown",
   "id": "c954b104",
   "metadata": {},
   "source": [
    "### 本地环境配置"
   ]
  },
  {
   "cell_type": "code",
   "execution_count": 1,
   "id": "ed8c7067",
   "metadata": {},
   "outputs": [],
   "source": [
    "from matplotlib import pyplot as plt\n",
    "%matplotlib inline\n",
    "plt.rcParams['font.family'] = 'sans-serif'    # 用来正常显示中文\n",
    "plt.rcParams['font.sans-serif'] = 'SimHei'\n",
    "plt.rcParams['axes.unicode_minus'] = False   # 设置正常显示符号\n",
    "\n",
    "# 设置输入输出路径\n",
    "import os\n",
    "base_path = os.environ.get(\"BASE_PATH\",'../data/')\n",
    "data_path = os.path.join(base_path + \"lab3/\")\n",
    "result_path = \"result/\"\n",
    "os.makedirs(result_path, exist_ok=True)\n",
    "\n",
    "# 忽略第三方支援库更新兼容性提示\n",
    "import warnings\n",
    "warnings.simplefilter('ignore') "
   ]
  },
  {
   "cell_type": "markdown",
   "id": "32dd349d",
   "metadata": {},
   "source": [
    "### 指令格式\n",
    "\n",
    "请作为一个代码优化器，简化下面的代码 ——\n",
    "\n",
    "**<font color=\"#0000dd\">Python 代码</font>**\n",
    "\n",
    "### 指令示例\n",
    "\n",
    "请作为一个代码优化器，简化下面的代码 ——\n",
    "```python\n",
    "classes = ['Intro to Python', \n",
    "           'R Data Analysis', \n",
    "           'Python Machine Learning'] \n",
    "grades = [98, \n",
    "          96, \n",
    "          89] \n",
    "grade_dict = {}\n",
    "for idx in range(len(classes)): \n",
    "    grade_dict[classes[idx]] = grades[idx] \n",
    "print(grade_dict)\n",
    "```\n",
    "\n",
    "<img src=\"./img/3-7.png\" width=80%>"
   ]
  },
  {
   "cell_type": "markdown",
   "id": "dfc5d8c8",
   "metadata": {},
   "source": [
    "### 原始代码"
   ]
  },
  {
   "cell_type": "code",
   "execution_count": 3,
   "id": "6a97d871",
   "metadata": {},
   "outputs": [
    {
     "name": "stdout",
     "output_type": "stream",
     "text": [
      "{'Intro to Python': 98, 'R Data Analysis': 96, 'Python Machine Learning': 89}\n"
     ]
    }
   ],
   "source": [
    "classes = ['Intro to Python', \n",
    "           'R Data Analysis', \n",
    "           'Python Machine Learning'] \n",
    "grades = [98, \n",
    "          96, \n",
    "          89] \n",
    "grade_dict = {}\n",
    "for idx in range(len(classes)): \n",
    "    grade_dict[classes[idx]] = grades[idx] \n",
    "print(grade_dict)"
   ]
  },
  {
   "cell_type": "markdown",
   "id": "d9b8c90f",
   "metadata": {},
   "source": [
    "### ChatGPT 代码测试"
   ]
  },
  {
   "cell_type": "code",
   "execution_count": 4,
   "id": "630b8ec1",
   "metadata": {},
   "outputs": [
    {
     "name": "stdout",
     "output_type": "stream",
     "text": [
      "{'Intro to Python': 98, 'R Data Analysis': 96, 'Python Machine Learning': 89}\n"
     ]
    }
   ],
   "source": [
    "classes = ['Intro to Python', 'R Data Analysis', 'Python Machine Learning'] \n",
    "grades = [98, 96, 89] \n",
    "\n",
    "grade_dict = dict(zip(classes, grades)) \n",
    "print(grade_dict)"
   ]
  },
  {
   "cell_type": "code",
   "execution_count": 5,
   "id": "31d9ab81",
   "metadata": {},
   "outputs": [
    {
     "name": "stdout",
     "output_type": "stream",
     "text": [
      "{'Intro to Python': 98, 'R Data Analysis': 96, 'Python Machine Learning': 89}\n"
     ]
    }
   ],
   "source": [
    "classes = ['Intro to Python', 'R Data Analysis', 'Python Machine Learning'] \n",
    "grades = [98, 96, 89] \n",
    "\n",
    "grade_dict = {class_: grade for class_, grade in zip(classes, grades)}\n",
    "print(grade_dict)"
   ]
  }
 ],
 "metadata": {
  "kernelspec": {
   "display_name": "Python 3",
   "language": "python",
   "name": "python3"
  },
  "language_info": {
   "codemirror_mode": {
    "name": "ipython",
    "version": 3
   },
   "file_extension": ".py",
   "mimetype": "text/x-python",
   "name": "python",
   "nbconvert_exporter": "python",
   "pygments_lexer": "ipython3",
   "version": "3.6.9"
  },
  "toc": {
   "base_numbering": 1,
   "nav_menu": {},
   "number_sections": false,
   "sideBar": true,
   "skip_h1_title": false,
   "title_cell": "Table of Contents",
   "title_sidebar": "Contents",
   "toc_cell": false,
   "toc_position": {
    "height": "calc(100% - 180px)",
    "left": "10px",
    "top": "150px",
    "width": "225px"
   },
   "toc_section_display": true,
   "toc_window_display": false
  }
 },
 "nbformat": 4,
 "nbformat_minor": 5
}
