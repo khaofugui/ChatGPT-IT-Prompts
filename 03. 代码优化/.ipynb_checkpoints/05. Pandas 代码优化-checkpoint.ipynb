{
 "cells": [
  {
   "cell_type": "markdown",
   "id": "fecb22ac",
   "metadata": {},
   "source": [
    "## 实验：Pandas 代码优化"
   ]
  },
  {
   "cell_type": "markdown",
   "id": "c954b104",
   "metadata": {},
   "source": [
    "### 本地环境配置"
   ]
  },
  {
   "cell_type": "code",
   "execution_count": 1,
   "id": "ed8c7067",
   "metadata": {},
   "outputs": [],
   "source": [
    "from matplotlib import pyplot as plt\n",
    "%matplotlib inline\n",
    "plt.rcParams['font.family'] = 'sans-serif'    # 用来正常显示中文\n",
    "plt.rcParams['font.sans-serif'] = 'SimHei'\n",
    "plt.rcParams['axes.unicode_minus'] = False   # 设置正常显示符号\n",
    "\n",
    "# 设置输入输出路径\n",
    "import os\n",
    "base_path = os.environ.get(\"BASE_PATH\",'../data/')\n",
    "data_path = os.path.join(base_path + \"lab3/\")\n",
    "result_path = \"result/\"\n",
    "os.makedirs(result_path, exist_ok=True)\n",
    "\n",
    "# 忽略第三方支援库更新兼容性提示\n",
    "import warnings\n",
    "warnings.simplefilter('ignore') "
   ]
  },
  {
   "cell_type": "markdown",
   "id": "32dd349d",
   "metadata": {},
   "source": [
    "### 指令格式\n",
    "\n",
    "请作为一个代码优化器，帮我优化以下 Pandas 代码 ——\n",
    "\n",
    "**<font color=\"#0000dd\">Python 代码</font>**\n",
    "\n",
    "### 指令示例\n",
    "\n",
    "请作为一个代码优化器，帮我优化以下 Pandas 代码 ——\n",
    "```python\n",
    "import pandas as pd\n",
    "\n",
    "df = pd.read_csv(data_path + \"titles.csv\") \n",
    "df_bad = df.query(\"runtime > 30 & type == 'SHOW'\") \n",
    "df_bad [\"score\"] = df_bad[[\"imdb_score\", \"tmdb_score\"]].sum(axis=1) \n",
    "df_bad = df_bad[[\"seasons\", \"score\"]] \n",
    "df_bad = df_bad.groupby(\"seasons\").agg([\"count\", \"mean\"]) \n",
    "df_bad = df_bad.droplevel(axis=1, level=0) \n",
    "df_bad = df_bad.query(\"count > 10\") \n",
    "\n",
    "df_bad.head()\n",
    "```\n",
    "\n",
    "<img src=\"./img/3-5.png\" width=80%>"
   ]
  },
  {
   "cell_type": "markdown",
   "id": "dfc5d8c8",
   "metadata": {},
   "source": [
    "### 原始代码\n",
    "\n",
    "大多数 pandas 从业者在学习 pandas 的数据处理时，都是通过对 DataFrames 进行连续的变更，作为一系列不同的、逐行的操作。对 pandas DataFrames 进行过度的变更会导致一些问题，有几个原因。\n",
    "\n",
    "1. 它通过创建全局变量来浪费内存（如果你在每一步都创建一个不同命名的 DataFrame，那就更是如此）\n",
    "2. 代码很繁琐，难以阅读\n",
    "3. 容易出现错误--特别是在笔记本中，数据操作步骤的顺序可能不会被严格执行\n",
    "\n",
    "与其依次变更一个 pandas DataFrame，更好的方法是通过链式的 pandas 方法对其进行转换"
   ]
  },
  {
   "cell_type": "code",
   "execution_count": 2,
   "id": "6a97d871",
   "metadata": {},
   "outputs": [
    {
     "data": {
      "text/html": [
       "<div>\n",
       "<style scoped>\n",
       "    .dataframe tbody tr th:only-of-type {\n",
       "        vertical-align: middle;\n",
       "    }\n",
       "\n",
       "    .dataframe tbody tr th {\n",
       "        vertical-align: top;\n",
       "    }\n",
       "\n",
       "    .dataframe thead th {\n",
       "        text-align: right;\n",
       "    }\n",
       "</style>\n",
       "<table border=\"1\" class=\"dataframe\">\n",
       "  <thead>\n",
       "    <tr style=\"text-align: right;\">\n",
       "      <th></th>\n",
       "      <th>count</th>\n",
       "      <th>mean</th>\n",
       "    </tr>\n",
       "    <tr>\n",
       "      <th>seasons</th>\n",
       "      <th></th>\n",
       "      <th></th>\n",
       "    </tr>\n",
       "  </thead>\n",
       "  <tbody>\n",
       "    <tr>\n",
       "      <th>1.0</th>\n",
       "      <td>876</td>\n",
       "      <td>13.140103</td>\n",
       "    </tr>\n",
       "    <tr>\n",
       "      <th>2.0</th>\n",
       "      <td>206</td>\n",
       "      <td>13.974840</td>\n",
       "    </tr>\n",
       "    <tr>\n",
       "      <th>3.0</th>\n",
       "      <td>84</td>\n",
       "      <td>14.419810</td>\n",
       "    </tr>\n",
       "    <tr>\n",
       "      <th>4.0</th>\n",
       "      <td>44</td>\n",
       "      <td>15.059500</td>\n",
       "    </tr>\n",
       "    <tr>\n",
       "      <th>5.0</th>\n",
       "      <td>38</td>\n",
       "      <td>15.132395</td>\n",
       "    </tr>\n",
       "  </tbody>\n",
       "</table>\n",
       "</div>"
      ],
      "text/plain": [
       "         count       mean\n",
       "seasons                  \n",
       "1.0        876  13.140103\n",
       "2.0        206  13.974840\n",
       "3.0         84  14.419810\n",
       "4.0         44  15.059500\n",
       "5.0         38  15.132395"
      ]
     },
     "execution_count": 2,
     "metadata": {},
     "output_type": "execute_result"
    }
   ],
   "source": [
    "import pandas as pd\n",
    "\n",
    "df = pd.read_csv(data_path + \"titles.csv\") \n",
    "df_bad = df.query(\"runtime > 30 & type == 'SHOW'\") \n",
    "df_bad [\"score\"] = df_bad[[\"imdb_score\", \"tmdb_score\"]].sum(axis=1) \n",
    "df_bad = df_bad[[\"seasons\", \"score\"]] \n",
    "df_bad = df_bad.groupby(\"seasons\").agg([\"count\", \"mean\"]) \n",
    "df_bad = df_bad.droplevel(axis=1, level=0) \n",
    "df_bad = df_bad.query(\"count > 10\") \n",
    "\n",
    "df_bad.head()"
   ]
  },
  {
   "cell_type": "markdown",
   "id": "d9b8c90f",
   "metadata": {},
   "source": [
    "### ChatGPT 代码测试"
   ]
  },
  {
   "cell_type": "code",
   "execution_count": 3,
   "id": "630b8ec1",
   "metadata": {},
   "outputs": [
    {
     "data": {
      "text/html": [
       "<div>\n",
       "<style scoped>\n",
       "    .dataframe tbody tr th:only-of-type {\n",
       "        vertical-align: middle;\n",
       "    }\n",
       "\n",
       "    .dataframe tbody tr th {\n",
       "        vertical-align: top;\n",
       "    }\n",
       "\n",
       "    .dataframe thead th {\n",
       "        text-align: right;\n",
       "    }\n",
       "</style>\n",
       "<table border=\"1\" class=\"dataframe\">\n",
       "  <thead>\n",
       "    <tr style=\"text-align: right;\">\n",
       "      <th></th>\n",
       "      <th>count</th>\n",
       "      <th>mean</th>\n",
       "    </tr>\n",
       "    <tr>\n",
       "      <th>seasons</th>\n",
       "      <th></th>\n",
       "      <th></th>\n",
       "    </tr>\n",
       "  </thead>\n",
       "  <tbody>\n",
       "    <tr>\n",
       "      <th>1.0</th>\n",
       "      <td>876</td>\n",
       "      <td>13.140103</td>\n",
       "    </tr>\n",
       "    <tr>\n",
       "      <th>2.0</th>\n",
       "      <td>206</td>\n",
       "      <td>13.974840</td>\n",
       "    </tr>\n",
       "    <tr>\n",
       "      <th>3.0</th>\n",
       "      <td>84</td>\n",
       "      <td>14.419810</td>\n",
       "    </tr>\n",
       "    <tr>\n",
       "      <th>4.0</th>\n",
       "      <td>44</td>\n",
       "      <td>15.059500</td>\n",
       "    </tr>\n",
       "    <tr>\n",
       "      <th>5.0</th>\n",
       "      <td>38</td>\n",
       "      <td>15.132395</td>\n",
       "    </tr>\n",
       "  </tbody>\n",
       "</table>\n",
       "</div>"
      ],
      "text/plain": [
       "         count       mean\n",
       "seasons                  \n",
       "1.0        876  13.140103\n",
       "2.0        206  13.974840\n",
       "3.0         84  14.419810\n",
       "4.0         44  15.059500\n",
       "5.0         38  15.132395"
      ]
     },
     "execution_count": 3,
     "metadata": {},
     "output_type": "execute_result"
    }
   ],
   "source": [
    "df = pd.read_csv(data_path + \"titles.csv\") \n",
    "df_bad = (df.query(\"runtime > 30 & type == 'SHOW'\")\n",
    "             .assign(score = df[[\"imdb_score\", \"tmdb_score\"]].sum(axis=1))\n",
    "             .filter([\"seasons\", \"score\"])\n",
    "             .groupby(\"seasons\")\n",
    "             .agg([\"count\", \"mean\"])\n",
    "             .droplevel(axis=1, level=0)\n",
    "             .query(\"count > 10\")\n",
    "         )\n",
    "\n",
    "df_bad.head()"
   ]
  },
  {
   "cell_type": "markdown",
   "id": "35157540",
   "metadata": {},
   "source": [
    "原始代码来源：https://www.aidancooper.co.uk/pandas-anti-patterns/"
   ]
  }
 ],
 "metadata": {
  "kernelspec": {
   "display_name": "Python 3",
   "language": "python",
   "name": "python3"
  },
  "language_info": {
   "codemirror_mode": {
    "name": "ipython",
    "version": 3
   },
   "file_extension": ".py",
   "mimetype": "text/x-python",
   "name": "python",
   "nbconvert_exporter": "python",
   "pygments_lexer": "ipython3",
   "version": "3.6.9"
  },
  "toc": {
   "base_numbering": 1,
   "nav_menu": {},
   "number_sections": false,
   "sideBar": true,
   "skip_h1_title": false,
   "title_cell": "Table of Contents",
   "title_sidebar": "Contents",
   "toc_cell": false,
   "toc_position": {
    "height": "calc(100% - 180px)",
    "left": "10px",
    "top": "150px",
    "width": "225px"
   },
   "toc_section_display": true,
   "toc_window_display": false
  }
 },
 "nbformat": 4,
 "nbformat_minor": 5
}
