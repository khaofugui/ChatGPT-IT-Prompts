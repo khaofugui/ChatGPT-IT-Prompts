{
 "cells": [
  {
   "cell_type": "markdown",
   "id": "fecb22ac",
   "metadata": {},
   "source": [
    "## 实验：自动单元测试"
   ]
  },
  {
   "cell_type": "markdown",
   "id": "c954b104",
   "metadata": {},
   "source": [
    "### 本地环境配置"
   ]
  },
  {
   "cell_type": "code",
   "execution_count": 1,
   "id": "ed8c7067",
   "metadata": {},
   "outputs": [],
   "source": [
    "from matplotlib import pyplot as plt\n",
    "%matplotlib inline\n",
    "plt.rcParams['font.family'] = 'sans-serif'    # 用来正常显示中文\n",
    "plt.rcParams['font.sans-serif'] = 'SimHei'\n",
    "plt.rcParams['axes.unicode_minus'] = False   # 设置正常显示符号\n",
    "\n",
    "# 设置输入输出路径\n",
    "import os\n",
    "base_path = os.environ.get(\"BASE_PATH\",'../data/')\n",
    "data_path = os.path.join(base_path + \"lab3/\")\n",
    "result_path = \"result/\"\n",
    "os.makedirs(result_path, exist_ok=True)\n",
    "\n",
    "# 忽略第三方支援库更新兼容性提示\n",
    "import warnings\n",
    "warnings.simplefilter('ignore') "
   ]
  },
  {
   "cell_type": "markdown",
   "id": "32dd349d",
   "metadata": {},
   "source": [
    "### 指令格式\n",
    "\n",
    "请作为一个软件测试工程师，请编写 **<font color=\"#0000dd\">[ 函数 ]</font>** 的单元测试代码，测试条件为：\n",
    "\n",
    "测试条件\n",
    "\n",
    "### 指令示例\n",
    "\n",
    "请作为一个软件测试工程师，请编写 **[ def compute(a, b) ]** 的单元测试代码，测试条件为：\n",
    "```\n",
    "输入：1、1.2、0.99 | 输出：1、1.2、0.99\n",
    "输入：-1、-1.2、-0.99 | 输出：1、1.2、0.99\n",
    "输入：0 | 输出：0\n",
    "输入：None、[]、{} | 输出：TypeError\n",
    "```\n",
    "\n",
    "<img src=\"./img/13.png\" width=80%>\n",
    "\n",
    "### ChatGPT 代码测试"
   ]
  },
  {
   "cell_type": "code",
   "execution_count": 2,
   "id": "6a97d871",
   "metadata": {},
   "outputs": [
    {
     "name": "stderr",
     "output_type": "stream",
     "text": [
      "\n",
      "----------------------------------------------------------------------\n",
      "Ran 0 tests in 0.000s\n",
      "\n",
      "OK\n"
     ]
    }
   ],
   "source": [
    "import unittest\n",
    "\n",
    "def compute(a, b):\n",
    "    if type(a) not in [int, float]:\n",
    "        raise TypeError(\"Input must be a number.\")\n",
    "    return abs(a)\n",
    "\n",
    "class TestCompute(unittest.TestCase):\n",
    "    def test_positive_numbers(self):\n",
    "        self.assertEqual(compute(1, None), 1)\n",
    "        self.assertEqual(compute(1.2, None), 1.2)\n",
    "        self.assertEqual(compute(0.99, None), 0.99)\n",
    "    \n",
    "    def test_negative_numbers(self):\n",
    "        self.assertEqual(compute(-1, None), 1)\n",
    "        self.assertEqual(compute(-1.2, None), 1.2)\n",
    "        self.assertEqual(compute(-0.99, None), 0.99)\n",
    "    \n",
    "    def test_zero(self):\n",
    "        self.assertEqual(compute(0, None), 0)\n",
    "    \n",
    "    def test_invalid_inputs(self):\n",
    "        with self.assertRaises(TypeError):\n",
    "            compute(None, None)\n",
    "        with self.assertRaises(TypeError):\n",
    "            compute([], None)\n",
    "        with self.assertRaises(TypeError):\n",
    "            compute({}, None)\n",
    "\n",
    "suite = unittest.TestSuite()\n",
    "runner = unittest.TextTestRunner(verbosity=2)\n",
    "if __name__ == '__main__':\n",
    "    runner.run(suite)"
   ]
  },
  {
   "cell_type": "markdown",
   "id": "a9c2493c",
   "metadata": {},
   "source": [
    "将代码保存为 **`*.py`** 文件，在终端执行即可 ——\n",
    "\n",
    "<img src=\"./img/13-1.png\">"
   ]
  }
 ],
 "metadata": {
  "kernelspec": {
   "display_name": "Python 3",
   "language": "python",
   "name": "python3"
  },
  "language_info": {
   "codemirror_mode": {
    "name": "ipython",
    "version": 3
   },
   "file_extension": ".py",
   "mimetype": "text/x-python",
   "name": "python",
   "nbconvert_exporter": "python",
   "pygments_lexer": "ipython3",
   "version": "3.6.9"
  },
  "toc": {
   "base_numbering": 1,
   "nav_menu": {},
   "number_sections": false,
   "sideBar": true,
   "skip_h1_title": false,
   "title_cell": "Table of Contents",
   "title_sidebar": "Contents",
   "toc_cell": false,
   "toc_position": {
    "height": "calc(100% - 180px)",
    "left": "10px",
    "top": "150px",
    "width": "225px"
   },
   "toc_section_display": true,
   "toc_window_display": false
  }
 },
 "nbformat": 4,
 "nbformat_minor": 5
}
