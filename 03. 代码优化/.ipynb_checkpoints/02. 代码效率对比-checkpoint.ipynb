{
 "cells": [
  {
   "cell_type": "markdown",
   "id": "fecb22ac",
   "metadata": {},
   "source": [
    "## 实验：代码效率对比"
   ]
  },
  {
   "cell_type": "markdown",
   "id": "c954b104",
   "metadata": {},
   "source": [
    "### 本地环境配置"
   ]
  },
  {
   "cell_type": "code",
   "execution_count": 1,
   "id": "ed8c7067",
   "metadata": {},
   "outputs": [],
   "source": [
    "from matplotlib import pyplot as plt\n",
    "%matplotlib inline\n",
    "plt.rcParams['font.family'] = 'sans-serif'    # 用来正常显示中文\n",
    "plt.rcParams['font.sans-serif'] = 'SimHei'\n",
    "plt.rcParams['axes.unicode_minus'] = False   # 设置正常显示符号\n",
    "\n",
    "# 设置输入输出路径\n",
    "import os\n",
    "base_path = os.environ.get(\"BASE_PATH\",'../data/')\n",
    "data_path = os.path.join(base_path + \"lab3/\")\n",
    "result_path = \"result/\"\n",
    "os.makedirs(result_path, exist_ok=True)\n",
    "\n",
    "# 忽略第三方支援库更新兼容性提示\n",
    "import warnings\n",
    "warnings.simplefilter('ignore') "
   ]
  },
  {
   "cell_type": "markdown",
   "id": "2690969f",
   "metadata": {},
   "source": [
    "### 对比算法"
   ]
  },
  {
   "cell_type": "code",
   "execution_count": 2,
   "id": "18728887",
   "metadata": {},
   "outputs": [],
   "source": [
    "# 代码1:\n",
    "def compute1(a, b):\n",
    "    return (a+b) / (a*b)\n",
    "\n",
    "# 代码2:\n",
    "import numpy as np\n",
    "def compute2(a, b):\n",
    "    return np.divide(np.sum([a,b]), np.multiply(a,b))"
   ]
  },
  {
   "cell_type": "markdown",
   "id": "32dd349d",
   "metadata": {},
   "source": [
    "### 指令格式\n",
    "\n",
    "请作为一个软件测试工程师，我想对比以下两段执行相同任务的算法代码的运行效率，请写出一段循环执行以下算法 **<font color=\"#0000dd\">[ 参数 ]</font>** 的代码，并给出两段代码各自的执行时间以及相关的统计信息\n",
    "\n",
    "代码 1:\n",
    "\n",
    "代码 2:\n",
    "\n",
    "### 指令示例\n",
    "\n",
    "请作为一个软件测试工程师，我想对比以下两段执行相同任务的算法代码的运行效率，请写出一段循环执行以下算法 **[ 10次 ]** 的代码，并给出两段代码各自>的执行时间以及相关的统计信息\n",
    "```\n",
    "# 代码1:\n",
    "def compute1(a, b):\n",
    "    return (a+b) / (a*b)\n",
    "\n",
    "# 代码2:\n",
    "import numpy as np\n",
    "def compute2(a, b):\n",
    "    return np.divide(np.sum([a,b]), np.multiply(a,b))\n",
    "```\n",
    "\n",
    "<img src=\"./img/11.png\" width=80%>\n",
    "\n",
    "### ChatGPT 代码测试"
   ]
  },
  {
   "cell_type": "code",
   "execution_count": 3,
   "id": "6a97d871",
   "metadata": {},
   "outputs": [
    {
     "name": "stdout",
     "output_type": "stream",
     "text": [
      "Compute1 took 0.000005 seconds\n",
      "Compute2 took 0.001349 seconds\n"
     ]
    }
   ],
   "source": [
    "import timeit\n",
    "import numpy as np\n",
    "\n",
    "def compute1(a, b):\n",
    "    return (a+b) / (a*b)\n",
    "\n",
    "def compute2(a, b):\n",
    "    return np.divide(np.sum([a,b]), np.multiply(a,b))\n",
    "\n",
    "number = 10\n",
    "\n",
    "# Measure time for compute1\n",
    "t1 = timeit.timeit(lambda: compute1(5, 5), number=number)\n",
    "\n",
    "# Measure time for compute2\n",
    "t2 = timeit.timeit(lambda: compute2(5, 5), number=number)\n",
    "\n",
    "print(\"Compute1 took {:.6f} seconds\".format(t1))\n",
    "print(\"Compute2 took {:.6f} seconds\".format(t2))"
   ]
  }
 ],
 "metadata": {
  "kernelspec": {
   "display_name": "Python 3",
   "language": "python",
   "name": "python3"
  },
  "language_info": {
   "codemirror_mode": {
    "name": "ipython",
    "version": 3
   },
   "file_extension": ".py",
   "mimetype": "text/x-python",
   "name": "python",
   "nbconvert_exporter": "python",
   "pygments_lexer": "ipython3",
   "version": "3.6.9"
  },
  "toc": {
   "base_numbering": 1,
   "nav_menu": {},
   "number_sections": false,
   "sideBar": true,
   "skip_h1_title": false,
   "title_cell": "Table of Contents",
   "title_sidebar": "Contents",
   "toc_cell": false,
   "toc_position": {
    "height": "calc(100% - 180px)",
    "left": "10px",
    "top": "150px",
    "width": "225px"
   },
   "toc_section_display": true,
   "toc_window_display": false
  }
 },
 "nbformat": 4,
 "nbformat_minor": 5
}
