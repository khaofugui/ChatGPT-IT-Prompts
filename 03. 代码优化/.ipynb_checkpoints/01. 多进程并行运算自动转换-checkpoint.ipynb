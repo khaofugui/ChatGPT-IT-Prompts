{
 "cells": [
  {
   "cell_type": "markdown",
   "id": "fecb22ac",
   "metadata": {},
   "source": [
    "## 实验：多进程并行运算自动转换"
   ]
  },
  {
   "cell_type": "markdown",
   "id": "c954b104",
   "metadata": {},
   "source": [
    "### 本地环境配置"
   ]
  },
  {
   "cell_type": "code",
   "execution_count": 1,
   "id": "ed8c7067",
   "metadata": {},
   "outputs": [],
   "source": [
    "from matplotlib import pyplot as plt\n",
    "%matplotlib inline\n",
    "plt.rcParams['font.family'] = 'sans-serif'    # 用来正常显示中文\n",
    "plt.rcParams['font.sans-serif'] = 'SimHei'\n",
    "plt.rcParams['axes.unicode_minus'] = False   # 设置正常显示符号\n",
    "\n",
    "# 设置输入输出路径\n",
    "import os\n",
    "base_path = os.environ.get(\"BASE_PATH\",'../data/')\n",
    "data_path = os.path.join(base_path + \"lab3/\")\n",
    "result_path = \"result/\"\n",
    "os.makedirs(result_path, exist_ok=True)\n",
    "\n",
    "# 忽略第三方支援库更新兼容性提示\n",
    "import warnings\n",
    "warnings.simplefilter('ignore') "
   ]
  },
  {
   "cell_type": "markdown",
   "id": "2690969f",
   "metadata": {},
   "source": [
    "### 原始代码\n",
    "\n",
    "注意最后输出的执行时间 ——"
   ]
  },
  {
   "cell_type": "code",
   "execution_count": 2,
   "id": "18728887",
   "metadata": {},
   "outputs": [
    {
     "name": "stdout",
     "output_type": "stream",
     "text": [
      "\n",
      "2 ^ 2 = 4\n",
      "\n",
      "3 ^ 2 = 9\n",
      "\n",
      "5 ^ 2 = 25\n",
      "\n",
      "8 ^ 2 = 64\n",
      "\n",
      "2 ^ 3 = 8\n",
      "\n",
      "3 ^ 3 = 27\n",
      "\n",
      "5 ^ 3 = 125\n",
      "\n",
      "8 ^ 3 = 512\n",
      "Execution Time: 0.8062167167663574\n"
     ]
    }
   ],
   "source": [
    "import time\n",
    "def calc_square(numbers):\n",
    "    for n in numbers:\n",
    "        print(f'\\n{n} ^ 2 = {n*n}')\n",
    "        time.sleep(0.1)\n",
    "\n",
    "def calc_cube(numbers):\n",
    "    for n in numbers:\n",
    "        print(f'\\n{n} ^ 3 = {n*n*n}')\n",
    "        time.sleep(0.1)\n",
    "\n",
    "numbers = [2, 3, 5, 8]\n",
    "start = time.time()\n",
    "calc_square(numbers)\n",
    "calc_cube(numbers)\n",
    "end = time.time()\n",
    "\n",
    "print('Execution Time: {}'.format(end-start))"
   ]
  },
  {
   "cell_type": "markdown",
   "id": "32dd349d",
   "metadata": {},
   "source": [
    "### 指令格式\n",
    "\n",
    "请把下面这段 Python 代码转换为多进程并行运算 ——\n",
    "\n",
    "Python 代码\n",
    "\n",
    "### 指令示例\n",
    "\n",
    "请把下面这段 Python 代码转换为多进程并行运算 ——\n",
    "```\n",
    "import time\n",
    "def calc_square(numbers):\n",
    "    for n in numbers:\n",
    "        print(f'\\n{n} ^ 2 = {n*n}')\n",
    "        time.sleep(0.1)\n",
    "\n",
    "def calc_cube(numbers):\n",
    "    for n in numbers:\n",
    "        print(f'\\n{n} ^ 3 = {n*n*n}')\n",
    "        time.sleep(0.1)\n",
    "\n",
    "numbers = [2, 3, 5, 8]\n",
    "start = time.time()\n",
    "calc_square(numbers)\n",
    "calc_cube(numbers)\n",
    "end = time.time()\n",
    "\n",
    "print('Execution Time: {}'.format(end-start))\n",
    "```\n",
    "\n",
    "<img src=\"./img/10.png\" width=80%>\n",
    "\n",
    "### ChatGPT 代码测试"
   ]
  },
  {
   "cell_type": "code",
   "execution_count": 3,
   "id": "6a97d871",
   "metadata": {},
   "outputs": [
    {
     "name": "stdout",
     "output_type": "stream",
     "text": [
      "\n",
      "2 ^ 2 = 4\n",
      "\n",
      "2 ^ 3 = 8\n",
      "\n",
      "3 ^ 2 = 9\n",
      "\n",
      "3 ^ 3 = 27\n",
      "\n",
      "5 ^ 2 = 25\n",
      "\n",
      "5 ^ 3 = 125\n",
      "\n",
      "8 ^ 2 = 64\n",
      "\n",
      "8 ^ 3 = 512\n",
      "Execution Time: 0.4390833377838135\n"
     ]
    }
   ],
   "source": [
    "import time\n",
    "import multiprocessing\n",
    "\n",
    "def calc_square(numbers):\n",
    "    for n in numbers:\n",
    "        print(f'\\n{n} ^ 2 = {n*n}')\n",
    "        time.sleep(0.1)\n",
    "\n",
    "def calc_cube(numbers):\n",
    "    for n in numbers:\n",
    "        print(f'\\n{n} ^ 3 = {n*n*n}')\n",
    "        time.sleep(0.1)\n",
    "\n",
    "if __name__ == '__main__':\n",
    "    numbers = [2, 3, 5, 8]\n",
    "    start = time.time()\n",
    "\n",
    "    p1 = multiprocessing.Process(target=calc_square, args=(numbers,))\n",
    "    p2 = multiprocessing.Process(target=calc_cube, args=(numbers,))\n",
    "\n",
    "    p1.start()\n",
    "    p2.start()\n",
    "\n",
    "    p1.join()\n",
    "    p2.join()\n",
    "\n",
    "    end = time.time()\n",
    "    print('Execution Time: {}'.format(end-start))"
   ]
  },
  {
   "cell_type": "markdown",
   "id": "4159bf9d",
   "metadata": {},
   "source": [
    "$\\uparrow$ 对比原始代码，执行时间少了 50%。"
   ]
  }
 ],
 "metadata": {
  "kernelspec": {
   "display_name": "Python 3",
   "language": "python",
   "name": "python3"
  },
  "language_info": {
   "codemirror_mode": {
    "name": "ipython",
    "version": 3
   },
   "file_extension": ".py",
   "mimetype": "text/x-python",
   "name": "python",
   "nbconvert_exporter": "python",
   "pygments_lexer": "ipython3",
   "version": "3.6.9"
  },
  "toc": {
   "base_numbering": 1,
   "nav_menu": {},
   "number_sections": false,
   "sideBar": true,
   "skip_h1_title": false,
   "title_cell": "Table of Contents",
   "title_sidebar": "Contents",
   "toc_cell": false,
   "toc_position": {
    "height": "calc(100% - 180px)",
    "left": "10px",
    "top": "150px",
    "width": "225px"
   },
   "toc_section_display": true,
   "toc_window_display": false
  }
 },
 "nbformat": 4,
 "nbformat_minor": 5
}
