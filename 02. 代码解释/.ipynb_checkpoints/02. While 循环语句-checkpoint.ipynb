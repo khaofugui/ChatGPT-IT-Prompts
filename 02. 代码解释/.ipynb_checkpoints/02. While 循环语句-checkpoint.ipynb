{
 "cells": [
  {
   "cell_type": "markdown",
   "id": "fecb22ac",
   "metadata": {},
   "source": [
    "## 实验： while 循环语句"
   ]
  },
  {
   "cell_type": "markdown",
   "id": "c954b104",
   "metadata": {},
   "source": [
    "### 本地环境配置"
   ]
  },
  {
   "cell_type": "code",
   "execution_count": 1,
   "id": "ed8c7067",
   "metadata": {},
   "outputs": [],
   "source": [
    "from matplotlib import pyplot as plt\n",
    "%matplotlib inline\n",
    "plt.rcParams['font.family'] = 'sans-serif'    # 用来正常显示中文\n",
    "plt.rcParams['font.sans-serif'] = 'SimHei'\n",
    "plt.rcParams['axes.unicode_minus'] = False   # 设置正常显示符号\n",
    "\n",
    "# 设置输入输出路径\n",
    "import os\n",
    "base_path = os.environ.get(\"BASE_PATH\",'../data/')\n",
    "data_path = os.path.join(base_path + \"lab2/\")\n",
    "result_path = \"result/\"\n",
    "os.makedirs(result_path, exist_ok=True)\n",
    "\n",
    "# 忽略第三方支援库更新兼容性提示\n",
    "import warnings\n",
    "warnings.simplefilter('ignore') "
   ]
  },
  {
   "cell_type": "markdown",
   "id": "32dd349d",
   "metadata": {},
   "source": [
    "### 指令格式\n",
    "\n",
    "请作为一个代码编译器，解释以下代码片段的作用，并输出执行结果 ——\n",
    "\n",
    "**<font color=\"#0000dd\">Python 代码片段</font>**\n",
    "\n",
    "### 指令示例\n",
    "\n",
    "请作为一个代码编译器，解释以下代码片段的作用，并输出执行结果 ——\n",
    "```python\n",
    "def multiplication_table(number):\n",
    "\tmultiplier = 1\n",
    "\twhile multiplier <= 5:\n",
    "\t\tresult = number*multiplier \n",
    "\t\tif result>25:\n",
    "\t\t\tbreak\n",
    "\t\tprint(str(number) + \"x\" + str(multiplier) + \"=\" + str(result))\n",
    "\t\tmultiplier += 1\n",
    "        \n",
    "multiplication_table(5)\n",
    "```\n",
    "\n",
    "<img src=\"./img/2-2.png\" width=80%>\n",
    "\n",
    "### ChatGPT 代码测试"
   ]
  },
  {
   "cell_type": "code",
   "execution_count": 5,
   "id": "6a97d871",
   "metadata": {
    "scrolled": false
   },
   "outputs": [
    {
     "name": "stdout",
     "output_type": "stream",
     "text": [
      "5x1=5\n",
      "5x2=10\n",
      "5x3=15\n",
      "5x4=20\n",
      "5x5=25\n"
     ]
    }
   ],
   "source": [
    "def multiplication_table(number):\n",
    "    multiplier = 1\n",
    "    while multiplier <= 5:\n",
    "        result = number*multiplier \n",
    "        if result>25:\n",
    "            break\n",
    "        print(str(number) + \"x\" + str(multiplier) + \"=\" + str(result))\n",
    "        multiplier += 1\n",
    "\n",
    "multiplication_table(5)"
   ]
  }
 ],
 "metadata": {
  "kernelspec": {
   "display_name": "Python 3",
   "language": "python",
   "name": "python3"
  },
  "language_info": {
   "codemirror_mode": {
    "name": "ipython",
    "version": 3
   },
   "file_extension": ".py",
   "mimetype": "text/x-python",
   "name": "python",
   "nbconvert_exporter": "python",
   "pygments_lexer": "ipython3",
   "version": "3.6.9"
  },
  "toc": {
   "base_numbering": 1,
   "nav_menu": {},
   "number_sections": false,
   "sideBar": true,
   "skip_h1_title": false,
   "title_cell": "Table of Contents",
   "title_sidebar": "Contents",
   "toc_cell": false,
   "toc_position": {
    "height": "calc(100% - 180px)",
    "left": "10px",
    "top": "150px",
    "width": "225px"
   },
   "toc_section_display": true,
   "toc_window_display": false
  }
 },
 "nbformat": 4,
 "nbformat_minor": 5
}
