{
 "cells": [
  {
   "cell_type": "markdown",
   "id": "fecb22ac",
   "metadata": {},
   "source": [
    "## 实验：代码自动注释"
   ]
  },
  {
   "cell_type": "markdown",
   "id": "c954b104",
   "metadata": {},
   "source": [
    "### 本地环境配置"
   ]
  },
  {
   "cell_type": "code",
   "execution_count": 1,
   "id": "ed8c7067",
   "metadata": {},
   "outputs": [],
   "source": [
    "from matplotlib import pyplot as plt\n",
    "%matplotlib inline\n",
    "plt.rcParams['font.family'] = 'sans-serif'    # 用来正常显示中文\n",
    "plt.rcParams['font.sans-serif'] = 'SimHei'\n",
    "plt.rcParams['axes.unicode_minus'] = False   # 设置正常显示符号\n",
    "\n",
    "# 设置输入输出路径\n",
    "import os\n",
    "base_path = os.environ.get(\"BASE_PATH\",'../data/')\n",
    "data_path = os.path.join(base_path + \"lab2/\")\n",
    "result_path = \"result/\"\n",
    "os.makedirs(result_path, exist_ok=True)\n",
    "\n",
    "# 忽略第三方支援库更新兼容性提示\n",
    "import warnings\n",
    "warnings.simplefilter('ignore') "
   ]
  },
  {
   "cell_type": "markdown",
   "id": "32dd349d",
   "metadata": {},
   "source": [
    "### 指令格式\n",
    "\n",
    "请作为一个机器学习工程师，对下面的代码片段加入代码注释 ——\n",
    "\n",
    "**<font color=\"#0000dd\">Python 代码片段</font>**\n",
    "\n",
    "### 指令示例\n",
    "\n",
    "请作为一个机器学习工程师，对下面的代码片段加入代码注释 ——\n",
    "```python\n",
    "import numpy as np                  \n",
    "import matplotlib.pyplot as plt     \n",
    "%matplotlib inline\n",
    "def relu(x):\n",
    "    return np.where(x < 0, 0, x)     \n",
    "relu_inputs = np.arange(-10,10,0.1)   \n",
    "relu_outputs = relu(relu_inputs)\n",
    "plt.plot(relu_inputs,relu_outputs)\n",
    "plt.xlabel(\"relu Inputs\")\n",
    "plt.ylabel(\"relu Outputs\")\n",
    "plt.show()\n",
    "```\n",
    "\n",
    "<img src=\"./img/2-2.png\" width=80%>\n",
    "\n",
    "### ChatGPT 代码测试"
   ]
  },
  {
   "cell_type": "code",
   "execution_count": 2,
   "id": "6a97d871",
   "metadata": {
    "scrolled": false
   },
   "outputs": [
    {
     "data": {
      "image/png": "[encoded data removed]",
      "text/plain": [
       "<Figure size 432x288 with 1 Axes>"
      ]
     },
     "metadata": {
      "needs_background": "light"
     },
     "output_type": "display_data"
    }
   ],
   "source": [
    "# 导入numpy库和matplotlib库\n",
    "import numpy as np                  \n",
    "import matplotlib.pyplot as plt     \n",
    "\n",
    "# 将图像嵌入到notebook中\n",
    "%matplotlib inline\n",
    "\n",
    "# 定义relu函数\n",
    "def relu(x):\n",
    "    # np.where是numpy库中的三目运算符，如果x小于0，返回0，否则返回x\n",
    "    return np.where(x < 0, 0, x)     \n",
    "\n",
    "# 定义relu输入，从-10到10，每隔0.1取一个数\n",
    "relu_inputs = np.arange(-10,10,0.1)   \n",
    "\n",
    "# 计算relu输出\n",
    "relu_outputs = relu(relu_inputs)\n",
    "\n",
    "# 使用matplotlib绘制图像，将relu输入作为x轴，relu输出作为y轴\n",
    "plt.plot(relu_inputs,relu_outputs)\n",
    "\n",
    "# 设置x轴标签为\"relu Inputs\"\n",
    "plt.xlabel(\"relu Inputs\")\n",
    "\n",
    "# 设置y轴标签为\"relu Outputs\"\n",
    "plt.ylabel(\"relu Outputs\")\n",
    "\n",
    "# 显示图像\n",
    "plt.show()"
   ]
  }
 ],
 "metadata": {
  "kernelspec": {
   "display_name": "Python 3",
   "language": "python",
   "name": "python3"
  },
  "language_info": {
   "codemirror_mode": {
    "name": "ipython",
    "version": 3
   },
   "file_extension": ".py",
   "mimetype": "text/x-python",
   "name": "python",
   "nbconvert_exporter": "python",
   "pygments_lexer": "ipython3",
   "version": "3.6.9"
  },
  "toc": {
   "base_numbering": 1,
   "nav_menu": {},
   "number_sections": false,
   "sideBar": true,
   "skip_h1_title": false,
   "title_cell": "Table of Contents",
   "title_sidebar": "Contents",
   "toc_cell": false,
   "toc_position": {
    "height": "calc(100% - 180px)",
    "left": "10px",
    "top": "150px",
    "width": "225px"
   },
   "toc_section_display": true,
   "toc_window_display": false
  }
 },
 "nbformat": 4,
 "nbformat_minor": 5
}
