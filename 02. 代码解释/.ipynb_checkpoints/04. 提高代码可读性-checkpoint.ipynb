{
 "cells": [
  {
   "cell_type": "markdown",
   "id": "fecb22ac",
   "metadata": {},
   "source": [
    "## 实验：提高代码可读性"
   ]
  },
  {
   "cell_type": "markdown",
   "id": "c954b104",
   "metadata": {},
   "source": [
    "### 本地环境配置"
   ]
  },
  {
   "cell_type": "code",
   "execution_count": 1,
   "id": "ed8c7067",
   "metadata": {},
   "outputs": [],
   "source": [
    "from matplotlib import pyplot as plt\n",
    "%matplotlib inline\n",
    "plt.rcParams['font.family'] = 'sans-serif'    # 用来正常显示中文\n",
    "plt.rcParams['font.sans-serif'] = 'SimHei'\n",
    "plt.rcParams['axes.unicode_minus'] = False   # 设置正常显示符号\n",
    "\n",
    "# 设置输入输出路径\n",
    "import os\n",
    "base_path = os.environ.get(\"BASE_PATH\",'../data/')\n",
    "data_path = os.path.join(base_path + \"lab2/\")\n",
    "result_path = \"result/\"\n",
    "os.makedirs(result_path, exist_ok=True)\n",
    "\n",
    "# 忽略第三方支援库更新兼容性提示\n",
    "import warnings\n",
    "warnings.simplefilter('ignore') "
   ]
  },
  {
   "cell_type": "markdown",
   "id": "32dd349d",
   "metadata": {},
   "source": [
    "### 指令格式\n",
    "\n",
    "请作为一个软件工程师，优化下列代码的可读性 —— ——\n",
    "\n",
    "**<font color=\"#0000dd\">Python 代码</font>**\n",
    "\n",
    "### 指令示例\n",
    "\n",
    "请作为一个软件工程师，优化下列代码的可读性 ——\n",
    "```python\n",
    "def list(a,b):\n",
    "    randomCamelCase = a\n",
    "    randon_snake_case = b\n",
    "    return [randomCanmlCase, random_snake_case]\n",
    "```\n",
    "\n",
    "<img src=\"./img/2-4.png\" width=80%>\n",
    "\n",
    "### ChatGPT 代码测试"
   ]
  },
  {
   "cell_type": "code",
   "execution_count": 1,
   "id": "68e37118",
   "metadata": {},
   "outputs": [],
   "source": [
    "def create_list(first_value, second_value):\n",
    "    camel_case_value = first_value\n",
    "    snake_case_value = second_value\n",
    "    return [camel_case_value, snake_case_value]"
   ]
  },
  {
   "cell_type": "markdown",
   "id": "2490afda",
   "metadata": {},
   "source": [
    "- 函数名称从 `list` 改成了 `create_list`，使用了更加描述性的命名。\n",
    "- 变量名称从 `randomCamelCase` 和 `randon_snake_case` 改成了 `camel_case_value` 和 `snake_case_value`，使用了更加描述性的命名。\n",
    "- 变量名称的命名方式从混合的驼峰命名和下划线命名改成了统一的 **下划线** 命名。"
   ]
  }
 ],
 "metadata": {
  "kernelspec": {
   "display_name": "Python 3",
   "language": "python",
   "name": "python3"
  },
  "language_info": {
   "codemirror_mode": {
    "name": "ipython",
    "version": 3
   },
   "file_extension": ".py",
   "mimetype": "text/x-python",
   "name": "python",
   "nbconvert_exporter": "python",
   "pygments_lexer": "ipython3",
   "version": "3.6.9"
  },
  "toc": {
   "base_numbering": 1,
   "nav_menu": {},
   "number_sections": false,
   "sideBar": true,
   "skip_h1_title": false,
   "title_cell": "Table of Contents",
   "title_sidebar": "Contents",
   "toc_cell": false,
   "toc_position": {
    "height": "calc(100% - 180px)",
    "left": "10px",
    "top": "150px",
    "width": "225px"
   },
   "toc_section_display": true,
   "toc_window_display": false
  }
 },
 "nbformat": 4,
 "nbformat_minor": 5
}
