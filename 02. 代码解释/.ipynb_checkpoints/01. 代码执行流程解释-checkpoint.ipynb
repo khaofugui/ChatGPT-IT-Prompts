{
 "cells": [
  {
   "cell_type": "markdown",
   "id": "fecb22ac",
   "metadata": {},
   "source": [
    "## 实验：代码执行流程解释"
   ]
  },
  {
   "cell_type": "markdown",
   "id": "c954b104",
   "metadata": {},
   "source": [
    "### 本地环境配置"
   ]
  },
  {
   "cell_type": "code",
   "execution_count": 1,
   "id": "ed8c7067",
   "metadata": {},
   "outputs": [],
   "source": [
    "from matplotlib import pyplot as plt\n",
    "%matplotlib inline\n",
    "plt.rcParams['font.family'] = 'sans-serif'    # 用来正常显示中文\n",
    "plt.rcParams['font.sans-serif'] = 'SimHei'\n",
    "plt.rcParams['axes.unicode_minus'] = False   # 设置正常显示符号\n",
    "\n",
    "# 设置输入输出路径\n",
    "import os\n",
    "base_path = os.environ.get(\"BASE_PATH\",'../data/')\n",
    "data_path = os.path.join(base_path + \"lab2/\")\n",
    "result_path = \"result/\"\n",
    "os.makedirs(result_path, exist_ok=True)\n",
    "\n",
    "# 忽略第三方支援库更新兼容性提示\n",
    "import warnings\n",
    "warnings.simplefilter('ignore') "
   ]
  },
  {
   "cell_type": "markdown",
   "id": "32dd349d",
   "metadata": {},
   "source": [
    "### 指令格式\n",
    "\n",
    "请作为一个代码编译器，解释以下代码片段的作用，并输出执行结果 ——\n",
    "\n",
    "**<font color=\"#0000dd\">Python 代码片段</font>**\n",
    "\n",
    "### 指令示例\n",
    "\n",
    "请作为一个代码编译器，解释以下代码片段的作用，并输出执行结果 ——\n",
    "```python\n",
    "def highlight_word(sentence, word):\n",
    "  ret = \"\"\n",
    "  l = len(word)\n",
    "  words = sentence.split()\n",
    "  for i,w in enumerate(words):\n",
    "    if w[:l] == word:\n",
    "      ret += w[:l].upper()+w[l:]\n",
    "    else:\n",
    "      ret += w\n",
    "    if i != len(words)-1:\n",
    "      ret += \" \"\n",
    "  return ret\n",
    "\n",
    "print(highlight_word(\"Have a nice day\", \"nice\"))\n",
    "print(highlight_word(\"Shhh, don't be so loud!\", \"loud\"))\n",
    "print(highlight_word(\"Automating with Python is fun\", \"fun\"))\n",
    "```\n",
    "\n",
    "<img src=\"./img/2-1.png\" width=80%>\n",
    "\n",
    "### ChatGPT 代码测试\n",
    "\n",
    "<img src=\"./img/2-1-1.png\" width=60%>"
   ]
  },
  {
   "cell_type": "code",
   "execution_count": 2,
   "id": "6a97d871",
   "metadata": {
    "scrolled": false
   },
   "outputs": [
    {
     "name": "stdout",
     "output_type": "stream",
     "text": [
      "Have a NICE day\n",
      "Shhh, don't be so LOUD!\n",
      "Automating with Python is FUN\n"
     ]
    }
   ],
   "source": [
    "def highlight_word(sentence, word):\n",
    "    ret = \"\"\n",
    "    l = len(word)\n",
    "    words = sentence.split()\n",
    "    for i,w in enumerate(words):\n",
    "        if w[:l] == word:\n",
    "            ret += w[:l].upper()+w[l:]\n",
    "        else:\n",
    "            ret += w\n",
    "        if i != len(words)-1:\n",
    "            ret += \" \"\n",
    "    return ret\n",
    "\n",
    "print(highlight_word(\"Have a nice day\", \"nice\"))\n",
    "print(highlight_word(\"Shhh, don't be so loud!\", \"loud\"))\n",
    "print(highlight_word(\"Automating with Python is fun\", \"fun\"))"
   ]
  }
 ],
 "metadata": {
  "kernelspec": {
   "display_name": "Python 3",
   "language": "python",
   "name": "python3"
  },
  "language_info": {
   "codemirror_mode": {
    "name": "ipython",
    "version": 3
   },
   "file_extension": ".py",
   "mimetype": "text/x-python",
   "name": "python",
   "nbconvert_exporter": "python",
   "pygments_lexer": "ipython3",
   "version": "3.6.9"
  },
  "toc": {
   "base_numbering": 1,
   "nav_menu": {},
   "number_sections": false,
   "sideBar": true,
   "skip_h1_title": false,
   "title_cell": "Table of Contents",
   "title_sidebar": "Contents",
   "toc_cell": false,
   "toc_position": {
    "height": "calc(100% - 180px)",
    "left": "10px",
    "top": "150px",
    "width": "225px"
   },
   "toc_section_display": true,
   "toc_window_display": false
  }
 },
 "nbformat": 4,
 "nbformat_minor": 5
}
