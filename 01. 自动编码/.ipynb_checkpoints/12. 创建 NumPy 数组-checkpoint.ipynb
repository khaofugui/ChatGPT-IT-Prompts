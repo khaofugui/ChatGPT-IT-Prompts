{
 "cells": [
  {
   "cell_type": "markdown",
   "id": "fecb22ac",
   "metadata": {},
   "source": [
    "## 实验：创建 NumPy 数组"
   ]
  },
  {
   "cell_type": "markdown",
   "id": "c954b104",
   "metadata": {},
   "source": [
    "### 本地环境配置"
   ]
  },
  {
   "cell_type": "code",
   "execution_count": 1,
   "id": "ed8c7067",
   "metadata": {},
   "outputs": [],
   "source": [
    "from matplotlib import pyplot as plt\n",
    "%matplotlib inline\n",
    "plt.rcParams['font.family'] = 'sans-serif'    # 用来正常显示中文\n",
    "plt.rcParams['font.sans-serif'] = 'SimHei'\n",
    "plt.rcParams['axes.unicode_minus'] = False   # 设置正常显示符号\n",
    "\n",
    "# 设置输入输出路径\n",
    "import os\n",
    "base_path = os.environ.get(\"BASE_PATH\",'../data/')\n",
    "data_path = os.path.join(base_path + \"lab1/\")\n",
    "result_path = \"result/\"\n",
    "os.makedirs(result_path, exist_ok=True)\n",
    "\n",
    "# 忽略第三方支援库更新兼容性提示\n",
    "import warnings\n",
    "warnings.simplefilter('ignore') "
   ]
  },
  {
   "cell_type": "markdown",
   "id": "32dd349d",
   "metadata": {},
   "source": [
    "### 指令格式\n",
    "\n",
    "我想你作为一个数据分析师，帮我创建一个 NumPy 数组，数组形状为 **<font color=\"#0000dd\">( x, y, z )</font>**，请在 **<font color=\"#0000dd\">[ i 到 j ]</font>** 之间随机生成数组初始值，并将其输出\n",
    "\n",
    "### 指令示例\n",
    "\n",
    "我想你作为一个数据分析师，帮我创建一个 NumPy 数组，数组形状为 **( 3, 4, 10 )**，请在 **[ 1 到 10 ]** 之间随机生成数组初始值，并将其输出\n",
    "\n",
    "<img src=\"./img/12.png\" width=80%>\n",
    "\n",
    "### ChatGPT 代码测试"
   ]
  },
  {
   "cell_type": "code",
   "execution_count": 2,
   "id": "6a97d871",
   "metadata": {},
   "outputs": [
    {
     "name": "stdout",
     "output_type": "stream",
     "text": [
      "[[[ 5  8  2  5  9  5  1  2  2  5]\n",
      "  [10  1  5  8  8  9  1 10  1  7]\n",
      "  [ 1  8  6  2  6  2  4  8 10 10]\n",
      "  [ 3  8  3  9  7  8 10  2  6  5]]\n",
      "\n",
      " [[ 5  6  7  7  9 10  8  3  6 10]\n",
      "  [ 9  6  8  2  1  5 10  2  6  8]\n",
      "  [ 5  9  3 10  1  7  8  3 10 10]\n",
      "  [ 1  6  6  7  8  9  3  2  9  6]]\n",
      "\n",
      " [[ 2  2  3  1  3  8 10  8  9  6]\n",
      "  [ 5  3 10  1  4  2  7  3  6 10]\n",
      "  [ 5  4  5  4  2  6  8 10  2  5]\n",
      "  [ 8  7  4  9  8  2  7  3  4  1]]]\n"
     ]
    }
   ],
   "source": [
    "import numpy as np\n",
    "\n",
    "# 创建一个形状为 (3, 4, 10) 的数组\n",
    "array = np.random.randint(1, 11, size=(3, 4, 10))\n",
    "\n",
    "# 输出数组\n",
    "print(array)"
   ]
  }
 ],
 "metadata": {
  "kernelspec": {
   "display_name": "Python 3",
   "language": "python",
   "name": "python3"
  },
  "language_info": {
   "codemirror_mode": {
    "name": "ipython",
    "version": 3
   },
   "file_extension": ".py",
   "mimetype": "text/x-python",
   "name": "python",
   "nbconvert_exporter": "python",
   "pygments_lexer": "ipython3",
   "version": "3.6.9"
  },
  "toc": {
   "base_numbering": 1,
   "nav_menu": {},
   "number_sections": false,
   "sideBar": true,
   "skip_h1_title": false,
   "title_cell": "Table of Contents",
   "title_sidebar": "Contents",
   "toc_cell": false,
   "toc_position": {
    "height": "calc(100% - 180px)",
    "left": "10px",
    "top": "150px",
    "width": "225px"
   },
   "toc_section_display": true,
   "toc_window_display": false
  }
 },
 "nbformat": 4,
 "nbformat_minor": 5
}
