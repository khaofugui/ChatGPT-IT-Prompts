{
 "cells": [
  {
   "cell_type": "markdown",
   "id": "fecb22ac",
   "metadata": {},
   "source": [
    "## 实验：特征列验证"
   ]
  },
  {
   "cell_type": "markdown",
   "id": "c954b104",
   "metadata": {},
   "source": [
    "### 本地环境配置"
   ]
  },
  {
   "cell_type": "code",
   "execution_count": 1,
   "id": "ed8c7067",
   "metadata": {},
   "outputs": [],
   "source": [
    "from matplotlib import pyplot as plt\n",
    "%matplotlib inline\n",
    "plt.rcParams['font.family'] = 'sans-serif'    # 用来正常显示中文\n",
    "plt.rcParams['font.sans-serif'] = 'SimHei'\n",
    "plt.rcParams['axes.unicode_minus'] = False   # 设置正常显示符号\n",
    "\n",
    "# 设置输入输出路径\n",
    "import os\n",
    "base_path = os.environ.get(\"BASE_PATH\",'../data/')\n",
    "data_path = os.path.join(base_path + \"lab1/\")\n",
    "result_path = \"result/\"\n",
    "os.makedirs(result_path, exist_ok=True)\n",
    "\n",
    "# 忽略第三方支援库更新兼容性提示\n",
    "import warnings\n",
    "warnings.simplefilter('ignore') "
   ]
  },
  {
   "cell_type": "markdown",
   "id": "32dd349d",
   "metadata": {},
   "source": [
    "### 指令格式\n",
    "\n",
    "检查我的数据集 **<font color=\"#0000dd\">[ 数据集名称 ]</font>** 中，是否存在 **<font color=\"#0000dd\">[ 检查对象 ]</font>**，如果 **<font color=\"#0000dd\">[ 是 ]</font>**，请 **<font color=\"#0000dd\">[ 操作 ]</font>**\n",
    "\n",
    "### 指令示例\n",
    "\n",
    "检查我的数据集 **[ house.csv ]** 中，是否存在 **[ 重复行，空值以及其它非法字符 ]**，如果 **[ 是 ]**，请 **[ 将它们统计出来，并移除 ]**\n",
    "\n",
    "<img src=\"./img/14.png\" width=80%>\n",
    "\n",
    "### ChatGPT 代码测试"
   ]
  },
  {
   "cell_type": "code",
   "execution_count": 2,
   "id": "6a97d871",
   "metadata": {
    "scrolled": false
   },
   "outputs": [
    {
     "name": "stdout",
     "output_type": "stream",
     "text": [
      "Number of duplicate rows: 0\n",
      "Number of rows with missing values: 6965\n"
     ]
    }
   ],
   "source": [
    "import pandas as pd\n",
    "\n",
    "# 读取数据集\n",
    "df = pd.read_csv(data_path + 'house.csv')\n",
    "\n",
    "# 检查重复行\n",
    "duplicate_rows = df.duplicated()\n",
    "print('Number of duplicate rows:', duplicate_rows.sum())\n",
    "\n",
    "# 移除重复行\n",
    "df = df.drop_duplicates()\n",
    "\n",
    "# 检查空值\n",
    "print('Number of rows with missing values:', df.isnull().sum().sum())\n",
    "\n",
    "# 移除空值\n",
    "df = df.dropna()\n",
    "\n",
    "# 检查其他非法字符（如，非数字字符）\n",
    "for column in df.columns:\n",
    "    try:\n",
    "        df[column] = df[column].astype(float)\n",
    "    except ValueError:\n",
    "        print('Invalid characters found in column:', column)\n"
   ]
  }
 ],
 "metadata": {
  "kernelspec": {
   "display_name": "Python 3",
   "language": "python",
   "name": "python3"
  },
  "language_info": {
   "codemirror_mode": {
    "name": "ipython",
    "version": 3
   },
   "file_extension": ".py",
   "mimetype": "text/x-python",
   "name": "python",
   "nbconvert_exporter": "python",
   "pygments_lexer": "ipython3",
   "version": "3.6.9"
  },
  "toc": {
   "base_numbering": 1,
   "nav_menu": {},
   "number_sections": false,
   "sideBar": true,
   "skip_h1_title": false,
   "title_cell": "Table of Contents",
   "title_sidebar": "Contents",
   "toc_cell": false,
   "toc_position": {
    "height": "calc(100% - 180px)",
    "left": "10px",
    "top": "150px",
    "width": "225px"
   },
   "toc_section_display": true,
   "toc_window_display": false
  }
 },
 "nbformat": 4,
 "nbformat_minor": 5
}
