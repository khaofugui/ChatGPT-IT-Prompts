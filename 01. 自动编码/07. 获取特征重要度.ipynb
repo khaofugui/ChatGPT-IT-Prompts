{
 "cells": [
  {
   "cell_type": "markdown",
   "id": "fecb22ac",
   "metadata": {},
   "source": [
    "## 实验：获取特征重要度"
   ]
  },
  {
   "cell_type": "markdown",
   "id": "c954b104",
   "metadata": {},
   "source": [
    "### 本地环境配置"
   ]
  },
  {
   "cell_type": "code",
   "execution_count": 1,
   "id": "ed8c7067",
   "metadata": {},
   "outputs": [],
   "source": [
    "from matplotlib import pyplot as plt\n",
    "%matplotlib inline\n",
    "plt.rcParams['font.family'] = 'sans-serif'    # 用来正常显示中文\n",
    "plt.rcParams['font.sans-serif'] = 'SimHei'\n",
    "plt.rcParams['axes.unicode_minus'] = False   # 设置正常显示符号\n",
    "\n",
    "# 设置输入输出路径\n",
    "import os\n",
    "base_path = os.environ.get(\"BASE_PATH\",'../data/')\n",
    "data_path = os.path.join(base_path + \"lab1/\")\n",
    "result_path = \"result/\"\n",
    "os.makedirs(result_path, exist_ok=True)\n",
    "\n",
    "# 忽略第三方支援库更新兼容性提示\n",
    "import warnings\n",
    "warnings.simplefilter('ignore') "
   ]
  },
  {
   "cell_type": "markdown",
   "id": "32dd349d",
   "metadata": {},
   "source": [
    "### 指令格式\n",
    "\n",
    "我训练了一个 **<font color=\"#0000dd\">[ 模型类型 ]</font>**，请帮我编写 Python 代码，找出最重要的特征\n",
    "\n",
    "### 指令示例\n",
    "\n",
    "我训练了一个 **[ 决策树模型 ]**，请帮我编写 Python 代码，找出最重要的特征\n",
    "\n",
    "<img src=\"./img/7.png\" width=80%>\n",
    "\n",
    "### ChatGPT 代码测试"
   ]
  },
  {
   "cell_type": "code",
   "execution_count": 2,
   "id": "90ed8343",
   "metadata": {},
   "outputs": [
    {
     "name": "stdout",
     "output_type": "stream",
     "text": [
      "Feature importances:\n",
      "1. feature 2 (0.550723)\n",
      "2. feature 3 (0.422611)\n",
      "3. feature 0 (0.026667)\n",
      "4. feature 1 (0.000000)\n"
     ]
    }
   ],
   "source": [
    "import numpy as np\n",
    "from sklearn.tree import DecisionTreeClassifier\n",
    "from sklearn.datasets import load_iris\n",
    "\n",
    "# 加载 iris 数据集\n",
    "iris = load_iris()\n",
    "X = iris.data\n",
    "y = iris.target\n",
    "\n",
    "# 训练决策树模型\n",
    "clf = DecisionTreeClassifier()\n",
    "clf.fit(X, y)\n",
    "\n",
    "# 获取特征重要性\n",
    "importances = clf.feature_importances_\n",
    "\n",
    "# 将重要性从高到低排序\n",
    "indices = np.argsort(importances)[::-1]\n",
    "\n",
    "# 打印特征重要性\n",
    "print(\"Feature importances:\")\n",
    "for f in range(X.shape[1]):\n",
    "    print(\"%d. feature %d (%f)\" % (f + 1, indices[f], importances[indices[f]]))"
   ]
  },
  {
   "cell_type": "markdown",
   "id": "0d877afe",
   "metadata": {},
   "source": [
    "这告诉我们，第三个特征对决策树模型预测结果最有贡献，其余特征的贡献逐渐减小。"
   ]
  }
 ],
 "metadata": {
  "kernelspec": {
   "display_name": "Python 3",
   "language": "python",
   "name": "python3"
  },
  "language_info": {
   "codemirror_mode": {
    "name": "ipython",
    "version": 3
   },
   "file_extension": ".py",
   "mimetype": "text/x-python",
   "name": "python",
   "nbconvert_exporter": "python",
   "pygments_lexer": "ipython3",
   "version": "3.6.9"
  },
  "toc": {
   "base_numbering": 1,
   "nav_menu": {},
   "number_sections": false,
   "sideBar": true,
   "skip_h1_title": false,
   "title_cell": "Table of Contents",
   "title_sidebar": "Contents",
   "toc_cell": false,
   "toc_position": {
    "height": "calc(100% - 180px)",
    "left": "10px",
    "top": "150px",
    "width": "225px"
   },
   "toc_section_display": true,
   "toc_window_display": false
  }
 },
 "nbformat": 4,
 "nbformat_minor": 5
}
