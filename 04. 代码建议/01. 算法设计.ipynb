{
 "cells": [
  {
   "cell_type": "markdown",
   "id": "fecb22ac",
   "metadata": {},
   "source": [
    "## 实验：算法设计"
   ]
  },
  {
   "cell_type": "markdown",
   "id": "c954b104",
   "metadata": {},
   "source": [
    "### 本地环境配置"
   ]
  },
  {
   "cell_type": "code",
   "execution_count": 1,
   "id": "ed8c7067",
   "metadata": {},
   "outputs": [],
   "source": [
    "from matplotlib import pyplot as plt\n",
    "%matplotlib inline\n",
    "plt.rcParams['font.family'] = 'sans-serif'    # 用来正常显示中文\n",
    "plt.rcParams['font.sans-serif'] = 'SimHei'\n",
    "plt.rcParams['axes.unicode_minus'] = False   # 设置正常显示符号\n",
    "\n",
    "# 设置输入输出路径\n",
    "import os\n",
    "base_path = os.environ.get(\"BASE_PATH\",'../data/')\n",
    "data_path = os.path.join(base_path + \"lab4/\")\n",
    "result_path = \"result/\"\n",
    "os.makedirs(result_path, exist_ok=True)\n",
    "\n",
    "# 忽略第三方支援库更新兼容性提示\n",
    "import warnings\n",
    "warnings.simplefilter('ignore') "
   ]
  },
  {
   "cell_type": "markdown",
   "id": "32dd349d",
   "metadata": {},
   "source": [
    "### 指令格式\n",
    "\n",
    "请作为一个软件工程师，使用 Python 编写一个算法函数，满足以下需求 ——\n",
    "\n",
    "**<font color=\"#0000dd\">算法需求</font>**\n",
    "\n",
    "### 指令示例\n",
    "\n",
    "请作为一个软件工程师，使用 Python 编写一个算法函数，满足以下需求 ——\n",
    "给定一个字符串 X， 输出 X 中奇数位置字符构成的字符串（位置编号从 1 开始）。\n",
    "例如 ——\n",
    "输入：a=\"xyzwd\"；输出：\"xzd\"；\n",
    "输入：a = \"0123456789\"；输出：\"02468\"\n",
    "\n",
    "<img src=\"./img/4-1.png\" width=80%>"
   ]
  },
  {
   "cell_type": "markdown",
   "id": "d9b8c90f",
   "metadata": {},
   "source": [
    "### ChatGPT 代码测试 -1"
   ]
  },
  {
   "cell_type": "code",
   "execution_count": 1,
   "id": "630b8ec1",
   "metadata": {},
   "outputs": [
    {
     "name": "stdout",
     "output_type": "stream",
     "text": [
      "xzd\n",
      "02468\n"
     ]
    }
   ],
   "source": [
    "def get_odd_chars(s):\n",
    "    # 利用切片提取奇数位置字符\n",
    "    return s[::2]\n",
    "\n",
    "s1 = \"xyzwd\"\n",
    "print(get_odd_chars(s1))  # 输出 \"xzd\"\n",
    "\n",
    "s2 = \"0123456789\"\n",
    "print(get_odd_chars(s2))  # 输出 \"02468\""
   ]
  },
  {
   "cell_type": "markdown",
   "id": "612f18ac",
   "metadata": {},
   "source": [
    "### ChatGPT 代码测试 -2"
   ]
  },
  {
   "cell_type": "code",
   "execution_count": 2,
   "id": "b830bf5b",
   "metadata": {},
   "outputs": [
    {
     "name": "stdout",
     "output_type": "stream",
     "text": [
      "xzd\n",
      "02468\n"
     ]
    }
   ],
   "source": [
    "def get_odd_chars(s):\n",
    "    odd_chars = \"\"\n",
    "    for i in range(len(s)):\n",
    "        # 判断索引是否为奇数\n",
    "        if i % 2 == 0:\n",
    "            odd_chars += s[i]\n",
    "    return odd_chars\n",
    "\n",
    "s1 = \"xyzwd\"\n",
    "print(get_odd_chars(s1))  # 输出 \"xzd\"\n",
    "\n",
    "s2 = \"0123456789\"\n",
    "print(get_odd_chars(s2))  # 输出 \"02468\""
   ]
  }
 ],
 "metadata": {
  "kernelspec": {
   "display_name": "Python 3",
   "language": "python",
   "name": "python3"
  },
  "language_info": {
   "codemirror_mode": {
    "name": "ipython",
    "version": 3
   },
   "file_extension": ".py",
   "mimetype": "text/x-python",
   "name": "python",
   "nbconvert_exporter": "python",
   "pygments_lexer": "ipython3",
   "version": "3.6.9"
  },
  "toc": {
   "base_numbering": 1,
   "nav_menu": {},
   "number_sections": false,
   "sideBar": true,
   "skip_h1_title": false,
   "title_cell": "Table of Contents",
   "title_sidebar": "Contents",
   "toc_cell": false,
   "toc_position": {
    "height": "calc(100% - 180px)",
    "left": "10px",
    "top": "150px",
    "width": "225px"
   },
   "toc_section_display": true,
   "toc_window_display": false
  }
 },
 "nbformat": 4,
 "nbformat_minor": 5
}
