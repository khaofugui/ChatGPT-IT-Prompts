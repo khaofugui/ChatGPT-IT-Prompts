{
 "cells": [
  {
   "cell_type": "markdown",
   "id": "fecb22ac",
   "metadata": {},
   "source": [
    "## 实验：Python 自动编程"
   ]
  },
  {
   "cell_type": "markdown",
   "id": "32dd349d",
   "metadata": {},
   "source": [
    "### 1. 自动编写分类模型\n",
    "\n",
    "#### 指令格式\n",
    "\n",
    "我有一份 **`[数据集名称]`** 数据集，请用 Python 写一个能预测 **`[标签列名称]`** 的机器学习模型\n",
    "\n",
    "#### 指令示例\n",
    "\n",
    ">我有一份 **[iris]** 数据集，请用 Python 写一个能预测 **[types]** 的机器学习模型\n",
    "\n",
    "<img src=\"./img/1.png\" width=60%>\n",
    "\n",
    "#### ChatGPT 代码测试"
   ]
  },
  {
   "cell_type": "code",
   "execution_count": 3,
   "id": "6f08c39c",
   "metadata": {},
   "outputs": [
    {
     "name": "stdout",
     "output_type": "stream",
     "text": [
      "Accuracy:  0.9666666666666667\n",
      "Prediction:  [2]\n"
     ]
    }
   ],
   "source": [
    "# 导入需要的库\n",
    "from sklearn.neighbors import KNeighborsClassifier\n",
    "from sklearn.model_selection import train_test_split\n",
    "from sklearn import datasets\n",
    "\n",
    "# 加载 iris 数据集\n",
    "iris = datasets.load_iris()\n",
    "X = iris.data\n",
    "y = iris.target\n",
    "\n",
    "# 分割训练数据和测试数据\n",
    "X_train, X_test, y_train, y_test = train_test_split(X, y, test_size=0.2)\n",
    "\n",
    "# 创建 KNeighborsClassifier 模型并训练\n",
    "knn = KNeighborsClassifier(n_neighbors=5)\n",
    "knn.fit(X_train, y_train)\n",
    "\n",
    "# 计算模型的准确率\n",
    "accuracy = knn.score(X_test, y_test)\n",
    "print(\"Accuracy: \", accuracy)\n",
    "\n",
    "# 使用模型预测\n",
    "prediction = knn.predict([[6.3, 2.5, 4.9, 1.5]])\n",
    "print(\"Prediction: \", prediction)"
   ]
  },
  {
   "cell_type": "code",
   "execution_count": null,
   "id": "7d2a789b",
   "metadata": {},
   "outputs": [],
   "source": []
  }
 ],
 "metadata": {
  "kernelspec": {
   "display_name": "Python 3",
   "language": "python",
   "name": "python3"
  },
  "language_info": {
   "codemirror_mode": {
    "name": "ipython",
    "version": 3
   },
   "file_extension": ".py",
   "mimetype": "text/x-python",
   "name": "python",
   "nbconvert_exporter": "python",
   "pygments_lexer": "ipython3",
   "version": "3.6.9"
  },
  "toc": {
   "base_numbering": 1,
   "nav_menu": {},
   "number_sections": false,
   "sideBar": true,
   "skip_h1_title": false,
   "title_cell": "Table of Contents",
   "title_sidebar": "Contents",
   "toc_cell": false,
   "toc_position": {
    "height": "calc(100% - 180px)",
    "left": "10px",
    "top": "150px",
    "width": "229.6px"
   },
   "toc_section_display": true,
   "toc_window_display": true
  }
 },
 "nbformat": 4,
 "nbformat_minor": 5
}
