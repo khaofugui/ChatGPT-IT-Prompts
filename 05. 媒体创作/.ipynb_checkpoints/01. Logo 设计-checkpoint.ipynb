{
 "cells": [
  {
   "cell_type": "markdown",
   "id": "fecb22ac",
   "metadata": {},
   "source": [
    "## 实验：Logo 设计"
   ]
  },
  {
   "cell_type": "markdown",
   "id": "c954b104",
   "metadata": {},
   "source": [
    "### 本地环境配置"
   ]
  },
  {
   "cell_type": "code",
   "execution_count": 1,
   "id": "ed8c7067",
   "metadata": {},
   "outputs": [],
   "source": [
    "from matplotlib import pyplot as plt\n",
    "%matplotlib inline\n",
    "plt.rcParams['font.family'] = 'sans-serif'    # 用来正常显示中文\n",
    "plt.rcParams['font.sans-serif'] = 'SimHei'\n",
    "plt.rcParams['axes.unicode_minus'] = False   # 设置正常显示符号\n",
    "\n",
    "# 设置输入输出路径\n",
    "import os\n",
    "base_path = os.environ.get(\"BASE_PATH\",'../data/')\n",
    "data_path = os.path.join(base_path + \"lab5/\")\n",
    "result_path = \"result/\"\n",
    "os.makedirs(result_path, exist_ok=True)\n",
    "\n",
    "# 忽略第三方支援库更新兼容性提示\n",
    "import warnings\n",
    "warnings.simplefilter('ignore') "
   ]
  },
  {
   "cell_type": "markdown",
   "id": "32dd349d",
   "metadata": {},
   "source": [
    "### 指令格式\n",
    "\n",
    "请作为一个艺术创作者，使用 SVG 格式，帮我设计一个 Logo，具体要求如下 ——\n",
    "\n",
    "- **<font color=\"#0000dd\">名称：</font>**；\n",
    "- **<font color=\"#0000dd\">主题元素：</font>**；\n",
    "- **<font color=\"#0000dd\">配色风格：</font>**；\n",
    "- ... ...\n",
    "- **<font color=\"#0000dd\">其它需求：</font>**\n",
    "\n",
    "请详细描述设计思路，并且提供 SVG 代码。\n",
    "\n",
    "### 指令示例\n",
    "\n",
    "请作为一个艺术创作者，使用 SVG 格式，帮我设计一个 Logo，具体要求如下 ——\n",
    "\n",
    "- 名称：跨象乘云；\n",
    "- 主题元素：AI科技；\n",
    "- 配色风格：赛博朋克；\n",
    "\n",
    "请详细描述设计思路，并且提供 SVG 代码。\n",
    "\n",
    "<img src=\"./img/5-1.png\" width=80%>"
   ]
  },
  {
   "cell_type": "markdown",
   "id": "d9b8c90f",
   "metadata": {},
   "source": [
    "### ChatGPT 代码测试\n",
    "\n",
    "将生成的 SVG 代码，粘贴至 SVG 在线解释器，譬如：https://www.svgviewer.dev/\n",
    "\n",
    "```xml\n",
    "<svg width=\"200\" height=\"200\" viewBox=\"0 0 200 200\" xmlns=\"http://www.w3.org/2000/svg\">\n",
    "  <rect x=\"0\" y=\"0\" width=\"200\" height=\"200\" fill=\"#202020\"/>\n",
    "  <path d=\"M75 130 Q 100 90 125 130 L 95 130 L 95 170 L 105 170 L 105 130 L 75 130 Z\" fill=\"#4a4a4a\"/>\n",
    "  <path d=\"M130 130 Q 155 90 180 130 L 150 130 L 150 170 L 160 170 L 160 130 L 130 130 Z\" fill=\"#4a4a4a\"/>\n",
    "  <path d=\"M100 60 Q 70 80 60 110 L 140 110 Q 130 80 100 60 Z\" fill=\"#0077c0\"/>\n",
    "  <path d=\"M90 70 Q 70 90 70 120 L 130 120 Q 130 90 110 70 Z\" fill=\"#0091ff\"/>\n",
    "  <text x=\"50\" y=\"185\" font-size=\"25\" font-weight=\"bold\" fill=\"#ffffff\">跨象乘云</text>\n",
    "  <text x=\"45\" y=\"160\" font-size=\"12\" fill=\"#ffffff\">AI科技</text>\n",
    "</svg>\n",
    "\n",
    "```\n",
    "在线解释器将代码解释为 SVG 文件后，可下载回本地 ——\n",
    "\n",
    "<img src=\"./img/5-1-2.png\" width=80%>"
   ]
  },
  {
   "cell_type": "markdown",
   "id": "2bbd4e71",
   "metadata": {},
   "source": [
    "本地加载 SVG 文件显示 ——\n",
    "\n",
    "![Alt text](./img/kxcy.svg)"
   ]
  }
 ],
 "metadata": {
  "kernelspec": {
   "display_name": "Python 3",
   "language": "python",
   "name": "python3"
  },
  "language_info": {
   "codemirror_mode": {
    "name": "ipython",
    "version": 3
   },
   "file_extension": ".py",
   "mimetype": "text/x-python",
   "name": "python",
   "nbconvert_exporter": "python",
   "pygments_lexer": "ipython3",
   "version": "3.6.9"
  },
  "toc": {
   "base_numbering": 1,
   "nav_menu": {},
   "number_sections": false,
   "sideBar": true,
   "skip_h1_title": false,
   "title_cell": "Table of Contents",
   "title_sidebar": "Contents",
   "toc_cell": false,
   "toc_position": {
    "height": "calc(100% - 180px)",
    "left": "10px",
    "top": "150px",
    "width": "225px"
   },
   "toc_section_display": true,
   "toc_window_display": false
  }
 },
 "nbformat": 4,
 "nbformat_minor": 5
}
