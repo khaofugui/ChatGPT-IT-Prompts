{
 "cells": [
  {
   "cell_type": "markdown",
   "id": "fecb22ac",
   "metadata": {},
   "source": [
    "## 实验：看图作文"
   ]
  },
  {
   "cell_type": "markdown",
   "id": "c954b104",
   "metadata": {},
   "source": [
    "### 本地环境配置"
   ]
  },
  {
   "cell_type": "code",
   "execution_count": 1,
   "id": "ed8c7067",
   "metadata": {},
   "outputs": [],
   "source": [
    "from matplotlib import pyplot as plt\n",
    "%matplotlib inline\n",
    "plt.rcParams['font.family'] = 'sans-serif'    # 用来正常显示中文\n",
    "plt.rcParams['font.sans-serif'] = 'SimHei'\n",
    "plt.rcParams['axes.unicode_minus'] = False   # 设置正常显示符号\n",
    "\n",
    "# 设置输入输出路径\n",
    "import os\n",
    "base_path = os.environ.get(\"BASE_PATH\",'../data/')\n",
    "data_path = os.path.join(base_path + \"lab5/\")\n",
    "result_path = \"result/\"\n",
    "os.makedirs(result_path, exist_ok=True)\n",
    "\n",
    "# 忽略第三方支援库更新兼容性提示\n",
    "import warnings\n",
    "warnings.simplefilter('ignore') "
   ]
  },
  {
   "cell_type": "markdown",
   "id": "9b92ea36",
   "metadata": {},
   "source": [
    "由于 ChatGPT 不支持上传附件，我们可以通过文本或者链接的方式，让 ChatGPT 读取图像 ——\n",
    "\n",
    "### 直接上传 SVG 代码\n",
    "\n",
    "<img src=\"./img/5-3-2.png\" width=80%>\n",
    "\n",
    "### 粘贴互联网图像链接\n",
    "\n",
    "<img src=\"./img/5-3-4.png\" width=80%>"
   ]
  },
  {
   "cell_type": "markdown",
   "id": "32dd349d",
   "metadata": {},
   "source": [
    "### 指令格式 (代码)\n",
    "\n",
    "下面是我上传的一幅 SVG 格式的图像：\n",
    "\n",
    "**<font color=\"#0000dd\">svg 代码</font>**\n",
    "\n",
    "请作为一位文学创作者，以 **<font color=\"#0000dd\">[写作风格]</font>** 的笔法，创作一段关于上面图像的 140 字以内的文本描述。\n",
    "\n",
    "### 指令示例\n",
    "\n",
    "下面是我上传的一幅 SVG 格式的图像：\n",
    "```xml\n",
    "<svg width=\"32px\" height=\"32px\" viewBox=\"0 0 32 32\" id=\"icon\" xmlns=\"http://www.w3.org/2000/svg\">\n",
    "  <defs>\n",
    "    <style>\n",
    "      .cls-1 {\n",
    "        fill: none;\n",
    "      }\n",
    "    </style>\n",
    "  </defs>\n",
    "  <title>bot</title>\n",
    "  <rect x=\"18\" y=\"10\" width=\"2\" height=\"2\"/>\n",
    "  <rect x=\"12\" y=\"10\" width=\"2\" height=\"2\"/>\n",
    "  <path d=\"M26,20H21V18h1a2.0023,2.0023,0,0,0,2-2V12h2V10H24V8a2.0023,2.0023,0,0,0-2-2H20V2H18V6H14V2H12V6H10A2.0023,2.0023,0,0,0,8,8v2H6v2H8v4a2.0023,2.0023,0,0,0,2,2h1v2H6a2.0023,2.0023,0,0,0-2,2v8H6V22H26v8h2V22A2.0023,2.0023,0,0,0,26,20ZM10,8H22v8H10Zm3,10h6v2H13Z\"/>\n",
    "  <rect id=\"_Transparent_Rectangle_\" data-name=\"&lt;Transparent Rectangle&gt;\" class=\"cls-1\" width=\"32\" height=\"32\"/>\n",
    "</svg>\n",
    "```\n",
    "请作为一位文学创作者，以 [莎士比亚] 的笔法，创作一段关于上面图像的 140 字以内的文本描述。\n",
    "\n",
    "<img src=\"./img/5-3-1.png\" width=80%>"
   ]
  },
  {
   "cell_type": "markdown",
   "id": "d9b8c90f",
   "metadata": {},
   "source": [
    "### 指令格式 (链接)\n",
    "\n",
    "请根据下面这幅图像：\n",
    "\n",
    "**<font color=\"#0000dd\">图像链接</font>**\n",
    "\n",
    "请作为一位文学创作者，以 **<font color=\"#0000dd\">[写作风格]</font>** 的笔法，创作一段关于上面图像的 140 字以内的文本描述。\n",
    "\n",
    "### 指令示例\n",
    "\n",
    "请根据下面这幅图像：\n",
    "\n",
    "https://cdn.pixabay.com/photo/2018/09/13/19/54/great-wall-3675637_960_720.jpg\n",
    "\n",
    "请作为一位文学创作者，以 [鲁迅] 的笔法，创作一段关于上面图像的 140 字以内的文本描述。\n",
    "\n",
    "<img src=\"./img/5-3-3.png\" width=80%>"
   ]
  }
 ],
 "metadata": {
  "kernelspec": {
   "display_name": "Python 3",
   "language": "python",
   "name": "python3"
  },
  "language_info": {
   "codemirror_mode": {
    "name": "ipython",
    "version": 3
   },
   "file_extension": ".py",
   "mimetype": "text/x-python",
   "name": "python",
   "nbconvert_exporter": "python",
   "pygments_lexer": "ipython3",
   "version": "3.6.9"
  },
  "toc": {
   "base_numbering": 1,
   "nav_menu": {},
   "number_sections": false,
   "sideBar": true,
   "skip_h1_title": false,
   "title_cell": "Table of Contents",
   "title_sidebar": "Contents",
   "toc_cell": false,
   "toc_position": {
    "height": "calc(100% - 180px)",
    "left": "10px",
    "top": "150px",
    "width": "225px"
   },
   "toc_section_display": true,
   "toc_window_display": false
  }
 },
 "nbformat": 4,
 "nbformat_minor": 5
}
